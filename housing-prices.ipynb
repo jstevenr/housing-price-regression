{
 "cells": [
  {
   "cell_type": "code",
   "execution_count": 155,
   "metadata": {},
   "outputs": [],
   "source": [
    "# loading libraries\n",
    "import pandas as pd\n",
    "import numpy as np\n",
    "import matplotlib.pyplot as plt\n",
    "%matplotlib inline\n",
    "import seaborn as sns\n",
    "sns.set_palette(\"coolwarm\")\n",
    "plt.style.use('ggplot')\n",
    "import plotly.express as px\n",
    "\n",
    "from scipy import stats\n",
    "from statsmodels.stats.stattools import durbin_watson\n",
    "\n",
    "from sklearn import datasets\n",
    "from sklearn.model_selection import train_test_split, GridSearchCV\n",
    "from sklearn.preprocessing import StandardScaler\n",
    "from sklearn.metrics import mean_squared_error\n",
    "from sklearn.linear_model import LinearRegression\n",
    "from xgboost import XGBRegressor\n",
    "from sklearn.tree import DecisionTreeRegressor\n",
    "from sklearn.neighbors import KNeighborsRegressor\n",
    "from sklearn.ensemble import RandomForestRegressor\n",
    "\n",
    "import tkinter as tk\n",
    "from functools import partial\n",
    "\n",
    "import warnings\n",
    "warnings.filterwarnings('ignore')"
   ]
  },
  {
   "cell_type": "markdown",
   "metadata": {},
   "source": [
    "## Introduction\n",
    "\n",
    "This project utilizes a variety of linear regression algorithms in order to predict the housing price in the city of Boston, or `MEDV`. These are all of the variables in the dataset. This data is maintained in the `datasets` module of `sklearn` but it can also be found online on the UCI Machine Learning Repository or from Kaggle.com. \n",
    "\n",
    "    CRIM - per capita crime rate by town\n",
    "    ZN - proportion of residential land zoned for lots over 25,000 sq.ft.\n",
    "    INDUS - proportion of non-retail business acres per town.\n",
    "    CHAS - Charles River dummy variable (1 if tract bounds river; 0 otherwise)\n",
    "    NOX - nitric oxides concentration (parts per 10 million)\n",
    "    RM - average number of rooms per dwelling\n",
    "    AGE - proportion of owner-occupied units built prior to 1940\n",
    "    DIS - weighted distances to five Boston employment centres\n",
    "    RAD - index of accessibility to radial highways\n",
    "    TAX - full-value property-tax rate per \\$10,000\n",
    "    PTRATIO - pupil-teacher ratio by town\n",
    "    B - 1000(Bk - 0.63)^2 where Bk is the proportion of blacks by town\n",
    "    LSTAT - % lower status of the population\n",
    "    MEDV - Median value of owner-occupied homes in $1000s\n",
    "    \n",
    "So first we will read in the data. "
   ]
  },
  {
   "cell_type": "code",
   "execution_count": 156,
   "metadata": {},
   "outputs": [],
   "source": [
    "# loading data\n",
    "boston = datasets.load_boston()\n",
    "df = pd.DataFrame(boston.data, columns = boston.feature_names)\n",
    "df['MEDV'] = boston.target"
   ]
  },
  {
   "cell_type": "code",
   "execution_count": 157,
   "metadata": {},
   "outputs": [],
   "source": [
    "# df.to_csv(\"boston_housing.csv\", sep = \",\")"
   ]
  },
  {
   "cell_type": "markdown",
   "metadata": {},
   "source": [
    "First we can look at the first few observations and also check for any missing values. "
   ]
  },
  {
   "cell_type": "code",
   "execution_count": 158,
   "metadata": {},
   "outputs": [
    {
     "name": "stdout",
     "output_type": "stream",
     "text": [
      "       CRIM    ZN  INDUS  CHAS   NOX    RM   AGE   DIS  RAD    TAX  PTRATIO  \\\n",
      "0  6.32e-03  18.0   2.31   0.0  0.54  6.58  65.2  4.09  1.0  296.0     15.3   \n",
      "1  2.73e-02   0.0   7.07   0.0  0.47  6.42  78.9  4.97  2.0  242.0     17.8   \n",
      "2  2.73e-02   0.0   7.07   0.0  0.47  7.18  61.1  4.97  2.0  242.0     17.8   \n",
      "3  3.24e-02   0.0   2.18   0.0  0.46  7.00  45.8  6.06  3.0  222.0     18.7   \n",
      "4  6.91e-02   0.0   2.18   0.0  0.46  7.15  54.2  6.06  3.0  222.0     18.7   \n",
      "\n",
      "        B  LSTAT  MEDV  \n",
      "0  396.90   4.98  24.0  \n",
      "1  396.90   9.14  21.6  \n",
      "2  392.83   4.03  34.7  \n",
      "3  394.63   2.94  33.4  \n",
      "4  396.90   5.33  36.2  \n",
      "CRIM       False\n",
      "ZN         False\n",
      "INDUS      False\n",
      "CHAS       False\n",
      "NOX        False\n",
      "RM         False\n",
      "AGE        False\n",
      "DIS        False\n",
      "RAD        False\n",
      "TAX        False\n",
      "PTRATIO    False\n",
      "B          False\n",
      "LSTAT      False\n",
      "MEDV       False\n",
      "dtype: bool\n",
      "(506, 14)\n",
      "           CRIM      ZN   INDUS    CHAS     NOX      RM     AGE     DIS  \\\n",
      "count  5.06e+02  506.00  506.00  506.00  506.00  506.00  506.00  506.00   \n",
      "mean   3.61e+00   11.36   11.14    0.07    0.55    6.28   68.57    3.80   \n",
      "std    8.60e+00   23.32    6.86    0.25    0.12    0.70   28.15    2.11   \n",
      "min    6.32e-03    0.00    0.46    0.00    0.39    3.56    2.90    1.13   \n",
      "25%    8.20e-02    0.00    5.19    0.00    0.45    5.89   45.02    2.10   \n",
      "50%    2.57e-01    0.00    9.69    0.00    0.54    6.21   77.50    3.21   \n",
      "75%    3.68e+00   12.50   18.10    0.00    0.62    6.62   94.07    5.19   \n",
      "max    8.90e+01  100.00   27.74    1.00    0.87    8.78  100.00   12.13   \n",
      "\n",
      "          RAD     TAX  PTRATIO       B   LSTAT    MEDV  \n",
      "count  506.00  506.00   506.00  506.00  506.00  506.00  \n",
      "mean     9.55  408.24    18.46  356.67   12.65   22.53  \n",
      "std      8.71  168.54     2.16   91.29    7.14    9.20  \n",
      "min      1.00  187.00    12.60    0.32    1.73    5.00  \n",
      "25%      4.00  279.00    17.40  375.38    6.95   17.02  \n",
      "50%      5.00  330.00    19.05  391.44   11.36   21.20  \n",
      "75%     24.00  666.00    20.20  396.23   16.96   25.00  \n",
      "max     24.00  711.00    22.00  396.90   37.97   50.00  \n"
     ]
    }
   ],
   "source": [
    "# Looking at the top of the dataset\n",
    "print(df.head())\n",
    "# Checking for missing values\n",
    "print(df.isnull().any())\n",
    "print(df.shape)\n",
    "print(df.describe())"
   ]
  },
  {
   "cell_type": "markdown",
   "metadata": {},
   "source": [
    "So note that there are no missing variables, although it should be noted that the `CHAS` and `RAD` variables are categorical rather than continuous variables. \n",
    "\n",
    "### Data Visualization\n",
    "As an introductory step it is good to visualize the response variable against the target variables. "
   ]
  },
  {
   "cell_type": "code",
   "execution_count": 159,
   "metadata": {},
   "outputs": [
    {
     "data": {
      "text/plain": [
       "<seaborn.axisgrid.PairGrid at 0x2bc53d093c8>"
      ]
     },
     "execution_count": 159,
     "metadata": {},
     "output_type": "execute_result"
    },
    {
     "data": {
      "image/png": "[encoded data removed]",
      "text/plain": [
       "<Figure size 1080x216 with 5 Axes>"
      ]
     },
     "metadata": {},
     "output_type": "display_data"
    },
    {
     "data": {
      "image/png": "[encoded data removed]",
      "text/plain": [
       "<Figure size 1080x216 with 5 Axes>"
      ]
     },
     "metadata": {},
     "output_type": "display_data"
    }
   ],
   "source": [
    "# response vs the continuous target variables\n",
    "sns.pairplot(data = df, height = 3,\n",
    "             y_vars = ['MEDV'],\n",
    "             x_vars = ['CRIM', 'ZN', 'INDUS', 'RM', 'AGE'])\n",
    "\n",
    "sns.pairplot(data = df, height = 3, y_vars = ['MEDV'],\n",
    "            x_vars = ['PTRATIO', 'B', 'LSTAT', 'RAD', 'CHAS'])"
   ]
  },
  {
   "cell_type": "markdown",
   "metadata": {},
   "source": [
    "A cursory glance at the scatterplots of the response and target variables show that `RM` and `LSTAT` have something of a linear relationship with `MEDV`. The rest of the variables don't seem to show much of a correlation. We can scrutinize this further by looking at a correlation matrix. This will help us determine which features to include in the final model, a process known as _feature selection_.\n",
    "\n",
    "## Feature Selection\n",
    "\n",
    "### Correlation Matrix\n",
    "This will tell us if any of the features are highly correlated with one another, which is bad since one of the assumptions of regression is that the features are independent from one another. We can also look at how the response variable correlates with the features. "
   ]
  },
  {
   "cell_type": "code",
   "execution_count": 160,
   "metadata": {},
   "outputs": [
    {
     "data": {
      "image/png": "[encoded data removed]",
      "text/plain": [
       "<Figure size 720x720 with 2 Axes>"
      ]
     },
     "metadata": {},
     "output_type": "display_data"
    }
   ],
   "source": [
    "# Setting style for seaborn\n",
    "sns.set_context(\"notebook\")\n",
    "sns.set_style(\"darkgrid\")\n",
    "\n",
    "# 2 significant figures\n",
    "pd.set_option('precision', 2)\n",
    "\n",
    "# Correlation matrix\n",
    "corr = df.corr()\n",
    "plt.figure(figsize = (10,10))\n",
    "sns.heatmap(corr, vmax = .8, linewidths = 0.01, square = True, annot = True, cmap = 'coolwarm', linecolor = 'white')\n",
    "plt.title('Correlation Matrix')\n",
    "plt.show()"
   ]
  },
  {
   "cell_type": "markdown",
   "metadata": {},
   "source": [
    "As we expected from our graphs, we notice that the features that correlate the highest with `MEDV` are `RM`, the average number of rooms, and `LSTAT`, the percent lower status of the population.\n",
    "\n",
    "`DIS`, which is weighted distances to Boston's employment centers, has a strong negative correlation with 3 variables: `INDUS`, the proportion of non-business acres, `NOX`, the concentration of nitric oxides,  and `AGE`, the proportion of homes built before 1940."
   ]
  },
  {
   "cell_type": "markdown",
   "metadata": {},
   "source": [
    "### Multicollinearity\n",
    "In building regression models we don't want to have highly correlated features, otherwise known as _multicollinearity_. Multicollinearity can result in inaccurate estimations of the regression coefficients, give false p-values when conducting tests, and worst of all, degrade the predictability of the model, among other problems.\n",
    "\n",
    "In general when building a model you want to have something less complex (i.e. less features) to reduce overfitting and correlated features tend to give similar information about the response variable. Therefore I am going to check which features have excessive correlation with the other features (> 0.75) and drop them from the dataset. "
   ]
  },
  {
   "cell_type": "code",
   "execution_count": 161,
   "metadata": {},
   "outputs": [
    {
     "name": "stdout",
     "output_type": "stream",
     "text": [
      "['NOX', 'DIS', 'TAX']\n"
     ]
    }
   ],
   "source": [
    "# Assigning the response variable as y and the target variables as X\n",
    "y = df['MEDV']\n",
    "X = pd.DataFrame(boston.data, columns = boston.feature_names)\n",
    "\n",
    "# drop features that are highly correlated with other features\n",
    "# matrix of absolute values of correlation\n",
    "corr_matrix = X.corr().abs()\n",
    "\n",
    "# Select upper triangle of correlation matrix\n",
    "upper = corr_matrix.where(np.triu(np.ones(corr_matrix.shape), k=1).astype(np.bool))\n",
    "\n",
    "# Find index of feature columns with correlation greater than 0.75\n",
    "to_drop = [column for column in upper.columns if any(upper[column] > 0.75)]\n",
    "print(to_drop)"
   ]
  },
  {
   "cell_type": "markdown",
   "metadata": {},
   "source": [
    "It appears that `NOX`, `DIS`, and `TAX` are highly correlated with one another so I am going to drop them from the dataset."
   ]
  },
  {
   "cell_type": "code",
   "execution_count": 162,
   "metadata": {},
   "outputs": [
    {
     "data": {
      "text/html": [
       "<div>\n",
       "<style scoped>\n",
       "    .dataframe tbody tr th:only-of-type {\n",
       "        vertical-align: middle;\n",
       "    }\n",
       "\n",
       "    .dataframe tbody tr th {\n",
       "        vertical-align: top;\n",
       "    }\n",
       "\n",
       "    .dataframe thead th {\n",
       "        text-align: right;\n",
       "    }\n",
       "</style>\n",
       "<table border=\"1\" class=\"dataframe\">\n",
       "  <thead>\n",
       "    <tr style=\"text-align: right;\">\n",
       "      <th></th>\n",
       "      <th>CRIM</th>\n",
       "      <th>ZN</th>\n",
       "      <th>INDUS</th>\n",
       "      <th>CHAS</th>\n",
       "      <th>RM</th>\n",
       "      <th>AGE</th>\n",
       "      <th>RAD</th>\n",
       "      <th>PTRATIO</th>\n",
       "      <th>B</th>\n",
       "      <th>LSTAT</th>\n",
       "    </tr>\n",
       "  </thead>\n",
       "  <tbody>\n",
       "    <tr>\n",
       "      <td>0</td>\n",
       "      <td>6.32e-03</td>\n",
       "      <td>18.0</td>\n",
       "      <td>2.31</td>\n",
       "      <td>0.0</td>\n",
       "      <td>6.58</td>\n",
       "      <td>65.2</td>\n",
       "      <td>1.0</td>\n",
       "      <td>15.3</td>\n",
       "      <td>396.90</td>\n",
       "      <td>4.98</td>\n",
       "    </tr>\n",
       "    <tr>\n",
       "      <td>1</td>\n",
       "      <td>2.73e-02</td>\n",
       "      <td>0.0</td>\n",
       "      <td>7.07</td>\n",
       "      <td>0.0</td>\n",
       "      <td>6.42</td>\n",
       "      <td>78.9</td>\n",
       "      <td>2.0</td>\n",
       "      <td>17.8</td>\n",
       "      <td>396.90</td>\n",
       "      <td>9.14</td>\n",
       "    </tr>\n",
       "    <tr>\n",
       "      <td>2</td>\n",
       "      <td>2.73e-02</td>\n",
       "      <td>0.0</td>\n",
       "      <td>7.07</td>\n",
       "      <td>0.0</td>\n",
       "      <td>7.18</td>\n",
       "      <td>61.1</td>\n",
       "      <td>2.0</td>\n",
       "      <td>17.8</td>\n",
       "      <td>392.83</td>\n",
       "      <td>4.03</td>\n",
       "    </tr>\n",
       "    <tr>\n",
       "      <td>3</td>\n",
       "      <td>3.24e-02</td>\n",
       "      <td>0.0</td>\n",
       "      <td>2.18</td>\n",
       "      <td>0.0</td>\n",
       "      <td>7.00</td>\n",
       "      <td>45.8</td>\n",
       "      <td>3.0</td>\n",
       "      <td>18.7</td>\n",
       "      <td>394.63</td>\n",
       "      <td>2.94</td>\n",
       "    </tr>\n",
       "    <tr>\n",
       "      <td>4</td>\n",
       "      <td>6.91e-02</td>\n",
       "      <td>0.0</td>\n",
       "      <td>2.18</td>\n",
       "      <td>0.0</td>\n",
       "      <td>7.15</td>\n",
       "      <td>54.2</td>\n",
       "      <td>3.0</td>\n",
       "      <td>18.7</td>\n",
       "      <td>396.90</td>\n",
       "      <td>5.33</td>\n",
       "    </tr>\n",
       "  </tbody>\n",
       "</table>\n",
       "</div>"
      ],
      "text/plain": [
       "       CRIM    ZN  INDUS  CHAS    RM   AGE  RAD  PTRATIO       B  LSTAT\n",
       "0  6.32e-03  18.0   2.31   0.0  6.58  65.2  1.0     15.3  396.90   4.98\n",
       "1  2.73e-02   0.0   7.07   0.0  6.42  78.9  2.0     17.8  396.90   9.14\n",
       "2  2.73e-02   0.0   7.07   0.0  7.18  61.1  2.0     17.8  392.83   4.03\n",
       "3  3.24e-02   0.0   2.18   0.0  7.00  45.8  3.0     18.7  394.63   2.94\n",
       "4  6.91e-02   0.0   2.18   0.0  7.15  54.2  3.0     18.7  396.90   5.33"
      ]
     },
     "execution_count": 162,
     "metadata": {},
     "output_type": "execute_result"
    }
   ],
   "source": [
    "# drop the highly correlated features\n",
    "X = X.drop(X[to_drop], axis = 1)\n",
    "X.head()"
   ]
  },
  {
   "cell_type": "markdown",
   "metadata": {},
   "source": [
    "Now that we've taken care of that, we want to look at the distribution of the response variable, `MEDV`, by visualizing it in a histogram and a normal probability plot."
   ]
  },
  {
   "cell_type": "code",
   "execution_count": 163,
   "metadata": {},
   "outputs": [
    {
     "data": {
      "image/png": "[encoded data removed]",
      "text/plain": [
       "<Figure size 432x288 with 1 Axes>"
      ]
     },
     "metadata": {},
     "output_type": "display_data"
    },
    {
     "data": {
      "image/png": "[encoded data removed]",
      "text/plain": [
       "<Figure size 432x288 with 1 Axes>"
      ]
     },
     "metadata": {},
     "output_type": "display_data"
    }
   ],
   "source": [
    "# histogram and normal probability plot\n",
    "sns.distplot(y, hist = True)\n",
    "fig = plt.figure()\n",
    "res = stats.probplot(y, plot = plt)"
   ]
  },
  {
   "cell_type": "markdown",
   "metadata": {},
   "source": [
    "Notice how the response variable doesn't strictly follow a Normal distribution as it should. Having said that, with such a large sample size of 506, we can forgo this assumption in favor of the Central Limit Theorem which stipulates that the data conforms to a Normal distribution at a large enough sample size.\n",
    "\n",
    "### Assumptions\n",
    "\n",
    "To be able to apply linear regression analysis, we have to ensure that the assumptions are fulfilled. These are as follows: \n",
    "\n",
    "1. Linearity of the residuals\n",
    "2. Independence of the residuals\n",
    "3. Normality of the residuals with a mean of 0\n",
    "4. Homoskedasticity of the residuals"
   ]
  },
  {
   "cell_type": "markdown",
   "metadata": {},
   "source": [
    "#### Normality\n",
    "Now let's look at the distributions of these two variables to see if they follow a Normal distribution. We can also conduct a Shapiro-Wilk test, which tests the null hypothesis that the data is from a Normal distribution. The test returns a W-statistic, which itself has a p-value. If the p-value of the test statistic is below our alpha level of 0.05, then we reject the null hypothesis and conclude that the data is not from a Normal distribution. \n",
    "\n",
    "##### The Central Limit Theorem\n",
    "It is important to point out that while Normality is an assumption, even when it is violated it doesn't necessarily invalidate the model. It is commonly understood that non-Normal residuals is fairly typical in the \"real world\" and the Central Limit Theorem (which stipulates that data conforms to a Normal distribution at a large enough sample size, generally $n > 15$) generally takes precedence. \n",
    "\n",
    "#### Multicollinearity\n",
    "The third assumption has to do with multicollinearity. We already established early on that several other variables had correlation with one another and dropped those features, and `LSTAT` and `RM` had a moderate correlation coefficient of $-0.61$, which we don't think is enough to consider them multicollinear. \n",
    "\n",
    "#### Independent Residuals\n",
    "Next we need to check that the residuals of the data are independent from each other. Another way to describe this would be autocorrelation of the residuals. We can test this with a Durbin-Watson test. If the test statistic of the test is between 1.5 and 2.5, then there is little to no autocorrelation. Below 2 is considered positive autocorrelation and above 2 is considered negative autocorrelation. 2 would mean no autocorrelation at all. \n",
    "\n",
    "#### MSE and R-squared\n",
    "In predicting for continuous variables such as in linear regression, you have a few different metrics to quantify the strength and accuracy of your model. The first is the _Mean Squared Error_, or MSE. It is one of a few 'loss' functions used to quantify the strength of a regression model. It is effectively the average of the squares of the errors, or \n",
    "\n",
    "$$MSE = \\frac{1}{n} \\sum_{i=1}^{n}(y_i - \\hat{y}_i)^2$$\n",
    "\n",
    "where $y_i$ is the true value of the response variable given input $X_i$ and $\\hat{y}_i$ is the predicted value. It quantifies how far away the predictions are from the true values, and the closer it is to zero, the better. \n",
    "\n",
    "_R-squared_ ($R^2$), otherwise known as the coefficient of determination, is the percentage of the variation in the response that is explained by the model, hence it is always between 0 and 1, where 1 means that 100% of the variation in the response is explained by the model. \n",
    "\n",
    "After splitting and scaling the data, we can put together a function that builds the model, fits it, calculates the evaluation metrics like the MSE and R-squared, and tests the assumptions. \n",
    "\n",
    "#### Training/Test Split\n",
    "In order to build our model and test it, we do a split of the data between a training set and a test set. Basically when fitting a model, you \"train\" it on the training set (typically a much bigger subset of the data), then apply the model to the test set. Essentially the model looks at what values for $X$ (target variable(s)) return what values for $y$ (response variable) in the training set, then uses the test set of $X$ values to make predictions for $y$. Then to evaluate the model, we compare the predictions that the model made ($\\hat{y}$) against the true values of $y$ (the test set). \n",
    "\n",
    "#### Cross-Validation and Parameter Tuning\n",
    "Cross validation is the process of training learners using one set of data, and testing it using a different set. While there are different kinds of cross-validation methods, we are using k-fold cross validation. In this case, the dataset is divided into $k$ subsets (or folds) and each fold is used as a test set with the rest used as a training set. Then the average errors across all $k$ trials is computed. The variance is reduced the higher $k$ is, but obviously this can get rather computationally expensive once you get into larger datasets and high values of $k$. \n",
    "\n",
    "It is important to distinguish that this train/test split during cross-validation is distinct from the train/test split of the data that happens in the initial data preparation process. In this case, the training data (80% of the dataset) is split into $k$ folds to be trained and tested on, and later the optimized, cross-validated model is tested on the 20% of test data we set aside at the beginning. This test data is always to be kept separate in the model training process to reduce overfitting. \n",
    "\n",
    "Parameter tuning is the process of selecting the values for a model's parameters that maximize the model's accuracy. The function `GridSearchCV` (from `sklearn.model_selection`) uses 3-fold cross validation by default and tests a number of different values for the parameters of a model, such as the number of estimators. We can use it to choose the optimal parameters for each of the models we are going to fit. \n",
    "\n",
    "#### Variable Importance\n",
    "Some of the models we are going to fit have a `feature_importance` attribute that allows us to visualize the varying strengths of each feature on the model itself. This can help us determine which features are most crucial in predicting the response, and maybe even build a smaller model based on those crucial features.\n",
    "\n",
    "In previous runs of this code I had checked the variable importance of the 'full' model which used all the available variables, minus the ones that were collinear. It ended up that `RM` and `LSTAT` were the most important variables in all of the models, so I decided to try a model that only uses those two variables. This makes sense since these were the two variables that had a significant correlation with the response variable. "
   ]
  },
  {
   "cell_type": "code",
   "execution_count": 164,
   "metadata": {},
   "outputs": [],
   "source": [
    "# Data Preparation\n",
    "X = X[['RM', 'LSTAT']]\n",
    "# split between training and testing sets, (70/30 split)\n",
    "X_train, X_test, y_train, y_test = train_test_split(X, y, test_size = 0.3, random_state = 100)\n",
    "\n",
    "# scaling the data\n",
    "scaler = StandardScaler().fit(X_train)\n",
    "\n",
    "# scaling the training and test splits and adding the column names back\n",
    "X_train = scaler.transform(X_train)\n",
    "X_train = pd.DataFrame(X_train, columns = X.columns)\n",
    "\n",
    "X_test = scaler.transform(X_test)\n",
    "X_test = pd.DataFrame(X_test, columns = X.columns)"
   ]
  },
  {
   "cell_type": "code",
   "execution_count": 165,
   "metadata": {},
   "outputs": [],
   "source": [
    "# function that finds the mean of the residuals, tests for Normality and independence\n",
    "\n",
    "def residual_tests(residuals):\n",
    "    \n",
    "    # Mean of the residuals\n",
    "    residuals_mean = round(np.mean(residuals), 3)\n",
    "    print(\"{} is the mean of the residuals.\".format(residuals_mean))\n",
    "    \n",
    "    # Checking for Normality of the residuals, Shapiro-Wilk test\n",
    "    W_stat, p = stats.shapiro(residuals)\n",
    "    W_stat = round(W_stat, 3)\n",
    "    p = round(p, 3)\n",
    "    print(\"{} is the test-statistic for the Shapiro-Wilk test with a p-value of {}.\".format(W_stat, p))\n",
    "    if p < 0.05: \n",
    "        print(\"We conclude that the residuals are not Normally distributed.\")\n",
    "    else:\n",
    "        print(\"We conclude that the residuals are Normally distributed.\")\n",
    "    \n",
    "    # Checking independence of the residuals, Durbin-Watson test\n",
    "    dw = round(durbin_watson(residuals), 3)\n",
    "    print(\"{} is the test-statistic for the Durbin-Watson test.\".format(dw))\n",
    "    if dw > 2.5 and dw <= 4:\n",
    "        print(\"We conclude there is strong negative autocorrelation in the residuals.\")\n",
    "    if dw > 0 and dw < 1.5:\n",
    "        print(\"We conclude there is strong positive autocorrelation in the residuals.\")\n",
    "    else:\n",
    "        print(\"We conclude there is little to no autocorrelation in the residuals and therefore they are independently distributed.\")"
   ]
  },
  {
   "cell_type": "code",
   "execution_count": 166,
   "metadata": {},
   "outputs": [],
   "source": [
    "# function that plots the predicted values against the true values, the residual plot, and the QQ-plot of the residuals\n",
    "# requires seaborn and matplotlib.pyplot\n",
    "\n",
    "def plot_model_diagnostics(y_pred, y_test, residuals):\n",
    "    \n",
    "    # Predictions vs True Values\n",
    "    plt.figure()\n",
    "    sns.regplot(x = y_pred, y = y_test, ci = None, scatter_kws = {'color': 'b'}, line_kws = {'color': 'r'})\n",
    "    plt.xlabel('Predictions')\n",
    "    plt.ylabel('True Values')\n",
    "    plt.title(\"Predictions vs True Values\")\n",
    "    \n",
    "    # Residual Plot\n",
    "    plt.figure()\n",
    "    sns.residplot(x = y_pred, y = y_test, lowess = True, scatter_kws = {'color': 'b'}, line_kws = {'color': 'r'})\n",
    "    plt.title(\"Residual Plot\")\n",
    "    \n",
    "    # QQ-plot\n",
    "    plt.figure()\n",
    "    stats.probplot(residuals, plot = plt)\n",
    "    plt.title(\"QQ-plot of the Residuals\")"
   ]
  },
  {
   "cell_type": "code",
   "execution_count": 167,
   "metadata": {},
   "outputs": [],
   "source": [
    "# function to plot variable importance, only works for estimators with feature_importances_ attribute\n",
    "\n",
    "def plot_variable_importance(model):\n",
    "    \n",
    "    importances = model.best_estimator_.feature_importances_\n",
    "\n",
    "    # Sort feature importances in descending order\n",
    "    indices = np.argsort(importances)[::-1]\n",
    "    \n",
    "    # Rearrange feature names so they match the sorted feature importances\n",
    "    names = list(X.columns.values)\n",
    "    names = [names[i] for i in indices]\n",
    "    \n",
    "    # Create plot\n",
    "    plt.figure()\n",
    "    plt.title(\"Feature Importance\")\n",
    "    plt.bar(range(X_train.shape[1]), importances[indices])\n",
    "    plt.xticks(range(X_train.shape[1]), names, rotation=90)\n",
    "    plt.show()"
   ]
  },
  {
   "cell_type": "markdown",
   "metadata": {},
   "source": [
    "#### Ordinary Least Squares (OLS) Regression\n",
    "First we will start with the simplest of machine learning algorithms, the ordinary least squares linear regression model. We use the function to fit the model and test it against the assumptions, so that we can evaluate the strength of the model within context. We can also help diagnose model issues by plotting the predictions against the true values and plot the residuals as well.\n",
    "\n",
    "The implementation of multiple linear regression with multiple features (independent variables) appears like so:\n",
    "\n",
    "$$ y = \\beta_0 + \\beta_1x_1 + ... + \\beta_nx_n $$ \n",
    "\n",
    "Where $y$ is the response, $x_i$ is the feature (or input variable), $\\beta_0$ is the intercept, and $\\beta_1$ through $\\beta_n$ are the coefficients for each of the $n$ independent variables."
   ]
  },
  {
   "cell_type": "code",
   "execution_count": 168,
   "metadata": {},
   "outputs": [
    {
     "name": "stdout",
     "output_type": "stream",
     "text": [
      "38.397 is the Mean Squared Error.\n",
      "6.197 is the Root Mean Squared Error.\n",
      "0.621 is the R-squared.\n",
      "-0.012 is the mean of the residuals.\n",
      "0.846 is the test-statistic for the Shapiro-Wilk test with a p-value of 0.0.\n",
      "We conclude that the residuals are not Normally distributed.\n",
      "2.106 is the test-statistic for the Durbin-Watson test.\n",
      "We conclude there is little to no autocorrelation in the residuals and therefore they are independently distributed.\n"
     ]
    },
    {
     "data": {
      "image/png": "[encoded data removed]",
      "text/plain": [
       "<Figure size 432x288 with 1 Axes>"
      ]
     },
     "metadata": {},
     "output_type": "display_data"
    },
    {
     "data": {
      "image/png": "[encoded data removed]",
      "text/plain": [
       "<Figure size 432x288 with 1 Axes>"
      ]
     },
     "metadata": {},
     "output_type": "display_data"
    },
    {
     "data": {
      "image/png": "[encoded data removed]",
      "text/plain": [
       "<Figure size 432x288 with 1 Axes>"
      ]
     },
     "metadata": {},
     "output_type": "display_data"
    }
   ],
   "source": [
    "# Linear Regression Model\n",
    "regr_LR = LinearRegression()\n",
    "\n",
    "# Hyper-parameter tuning\n",
    "parameters_LR = {'fit_intercept': [True, False], 'normalize': [True, False], 'copy_X': [True, False]}\n",
    "grid_LR = GridSearchCV(estimator = regr_LR, param_grid = parameters_LR)\n",
    "model_LR = grid_LR.fit(X_train, y_train)\n",
    "predictions_LR = model_LR.predict(X_test)\n",
    "\n",
    "# MSE \n",
    "mse_LR = round(mean_squared_error(y_test, predictions_LR), 3)\n",
    "rmse_LR = round(np.sqrt(mse_LR), 3)\n",
    "print(\"{} is the Mean Squared Error.\".format(mse_LR))\n",
    "print(\"{} is the Root Mean Squared Error.\".format(rmse_LR))\n",
    "\n",
    "# R-squared\n",
    "r2_LR = round(model_LR.score(X_test, y_test), 3)\n",
    "print(\"{} is the R-squared.\".format(r2_LR))\n",
    "    \n",
    "# Residuals\n",
    "residuals_LR = y_test - predictions_LR\n",
    "residual_tests(residuals_LR)\n",
    "\n",
    "# Plotting\n",
    "plot_model_diagnostics(predictions_LR, y_test, residuals_LR)"
   ]
  },
  {
   "cell_type": "markdown",
   "metadata": {},
   "source": [
    "We see that the mean of the residuals is approximately zero and that they are also independently distributed. Although the residuals of the model are not from a Normal distribution based on our tests and this QQ-plot, the sample size (504) is sufficiently large enough for us to bypass this assumption. In practice, residuals seldom fulfill this requirement. \n",
    "\n",
    "Looking at the residual plot however, we see a trend in how they are distributed (note the curve in the red line). Ideally this red line would be as horizontal as possible. Note the imbalance on the Y-axis with how the residuals are distributed. These all point towards the conclusion that this model might not be the strongest. "
   ]
  },
  {
   "cell_type": "markdown",
   "metadata": {},
   "source": [
    "### Decision Tree\n",
    "\n",
    "Decision trees are a simple machine learning model that can be utilized for classification and also for regression, which is our use case. The algorithm works in much the same way it does for a classification problem as it does for regression, where it chooses a label. In the regression case, it chooses between 'leaves' which are the splits in the data. \n",
    "\n",
    "For example, suppose in our training set we have values for $x$ ranging from 1-100, and each value for $x$ corresponds to a value for $y$. The algorithm can split these values  into ranges, such as 1-25, 25-50, 50-75, 75-100. It will then take a value for $y$ that represents that range for $x$. "
   ]
  },
  {
   "cell_type": "code",
   "execution_count": 169,
   "metadata": {},
   "outputs": [
    {
     "name": "stdout",
     "output_type": "stream",
     "text": [
      "33.066 is the Mean Squared Error.\n",
      "5.75 is the Root Mean Squared Error.\n",
      "0.674 is the R-squared.\n",
      "0.44 is the mean of the residuals.\n",
      "0.803 is the test-statistic for the Shapiro-Wilk test with a p-value of 0.0.\n",
      "We conclude that the residuals are not Normally distributed.\n",
      "2.128 is the test-statistic for the Durbin-Watson test.\n",
      "We conclude there is little to no autocorrelation in the residuals and therefore they are independently distributed.\n"
     ]
    },
    {
     "data": {
      "image/png": "[encoded data removed]",
      "text/plain": [
       "<Figure size 432x288 with 1 Axes>"
      ]
     },
     "metadata": {},
     "output_type": "display_data"
    },
    {
     "data": {
      "image/png": "[encoded data removed]",
      "text/plain": [
       "<Figure size 432x288 with 1 Axes>"
      ]
     },
     "metadata": {},
     "output_type": "display_data"
    },
    {
     "data": {
      "image/png": "[encoded data removed]",
      "text/plain": [
       "<Figure size 432x288 with 1 Axes>"
      ]
     },
     "metadata": {},
     "output_type": "display_data"
    },
    {
     "data": {
      "image/png": "[encoded data removed]",
      "text/plain": [
       "<Figure size 432x288 with 1 Axes>"
      ]
     },
     "metadata": {},
     "output_type": "display_data"
    }
   ],
   "source": [
    "# Decision Tree Regression\n",
    "regr_DT = DecisionTreeRegressor(random_state = 10)\n",
    "\n",
    "# Hyper-parameter tuning\n",
    "parameters_DT = {'max_features': ['sqrt', 'log2', None], 'max_depth': range(2,20)}\n",
    "grid_DT = GridSearchCV(estimator = regr_DT, param_grid = parameters_DT)\n",
    "model_DT = grid_DT.fit(X_train, y_train)\n",
    "predictions_DT = model_DT.predict(X_test)\n",
    "\n",
    "# MSE \n",
    "mse_DT = round(mean_squared_error(y_test, predictions_DT), 3)\n",
    "rmse_DT = round(np.sqrt(mse_DT), 3)\n",
    "print(\"{} is the Mean Squared Error.\".format(mse_DT))\n",
    "print(\"{} is the Root Mean Squared Error.\".format(rmse_DT))\n",
    "\n",
    "# R-squared\n",
    "r2_DT = round(model_DT.score(X_test, y_test), 3)\n",
    "print(\"{} is the R-squared.\".format(r2_DT))\n",
    "    \n",
    "# Residuals\n",
    "residuals_DT = y_test - predictions_DT\n",
    "residual_tests(residuals_DT)\n",
    "\n",
    "# Plotting\n",
    "plot_model_diagnostics(predictions_DT, y_test, residuals_DT)\n",
    "\n",
    "# Plotting variable importance\n",
    "plot_variable_importance(model_DT)"
   ]
  },
  {
   "cell_type": "markdown",
   "metadata": {},
   "source": [
    "### Random Forest\n",
    "Random forest is a machine learning algorithm that, true to its name, utilizes decision trees. It is a bootstrap aggregation (bagging) method that leverages many decision trees. This ensemble learning technique helps minimize overfitting which is a problem common when utilizing decision trees. It also introduces an element of randomness that makes it more robust. \n",
    "\n",
    "While Random Forests, like decision trees, can be utilized for classification, this is a regression problem since we are predicting a continuous response variable rather than a categorical one. \n",
    "\n",
    "It works by sampling multiple subsamples (with replacement) from the training dataset, then trains many decision trees for regression, where each leaf node outputs the mean of all of the label values in the node itself. The \"forest\" then returns the average of the predictions of all of the decision trees. \n",
    "\n",
    "While the randomness and scale of the algorithm makes it effectively reduce overfitting, it suffers from a lack of interpretability, making it a 'black-box' algorithm. "
   ]
  },
  {
   "cell_type": "code",
   "execution_count": 170,
   "metadata": {},
   "outputs": [
    {
     "name": "stdout",
     "output_type": "stream",
     "text": [
      "29.592 is the Mean Squared Error.\n",
      "5.44 is the Root Mean Squared Error.\n",
      "0.708 is the R-squared.\n",
      "0.312 is the mean of the residuals.\n",
      "0.802 is the test-statistic for the Shapiro-Wilk test with a p-value of 0.0.\n",
      "We conclude that the residuals are not Normally distributed.\n",
      "2.175 is the test-statistic for the Durbin-Watson test.\n",
      "We conclude there is little to no autocorrelation in the residuals and therefore they are independently distributed.\n"
     ]
    },
    {
     "data": {
      "image/png": "[encoded data removed]",
      "text/plain": [
       "<Figure size 432x288 with 1 Axes>"
      ]
     },
     "metadata": {},
     "output_type": "display_data"
    },
    {
     "data": {
      "image/png": "[encoded data removed]",
      "text/plain": [
       "<Figure size 432x288 with 1 Axes>"
      ]
     },
     "metadata": {},
     "output_type": "display_data"
    },
    {
     "data": {
      "image/png": "[encoded data removed]",
      "text/plain": [
       "<Figure size 432x288 with 1 Axes>"
      ]
     },
     "metadata": {},
     "output_type": "display_data"
    },
    {
     "data": {
      "image/png": "[encoded data removed]",
      "text/plain": [
       "<Figure size 432x288 with 1 Axes>"
      ]
     },
     "metadata": {},
     "output_type": "display_data"
    }
   ],
   "source": [
    "# Random Forest Regressor\n",
    "regr_RF = RandomForestRegressor()\n",
    "\n",
    "# Hyper-parameter tuning\n",
    "parameters_RF = {'n_estimators': [10, 20, 50, 100, 400], \n",
    "                'max_depth': [3, None],\n",
    "                'max_features': [1,2]}\n",
    "grid_RF = GridSearchCV(estimator = regr_RF, param_grid = parameters_RF)\n",
    "model_RF = grid_RF.fit(X_train, y_train)\n",
    "predictions_RF = model_RF.predict(X_test)\n",
    "\n",
    "# MSE \n",
    "mse_RF = round(mean_squared_error(y_test, predictions_RF), 3)\n",
    "rmse_RF = round(np.sqrt(mse_RF), 3)\n",
    "print(\"{} is the Mean Squared Error.\".format(mse_RF))\n",
    "print(\"{} is the Root Mean Squared Error.\".format(rmse_RF))\n",
    "\n",
    "# R-squared\n",
    "r2_RF = round(model_RF.score(X_test, y_test), 3)\n",
    "print(\"{} is the R-squared.\".format(r2_RF))\n",
    "    \n",
    "# Residuals\n",
    "residuals_RF = y_test - predictions_RF\n",
    "residual_tests(residuals_RF)\n",
    "\n",
    "# Plotting\n",
    "plot_model_diagnostics(predictions_RF, y_test, residuals_RF)\n",
    "\n",
    "# plot variable importance\n",
    "plot_variable_importance(model_RF)"
   ]
  },
  {
   "cell_type": "markdown",
   "metadata": {},
   "source": [
    "### Gradient Boosting\n",
    "\n",
    "Boosting is a sequential technique which works on the principle of tree ensembles, like random forests. The basic idea behind boosting algorithms is building a weak model, making conclusions about the various feature importance and parameters, and then using those conclusions to build a new, stronger model. One of the drawbacks of a single decision/regression tree is that it fails to include predictive power from multiple, overlapping regions of the feature space.\n",
    "\n",
    "Gradient boosting works by fitting a model to the data, $F_1(x) = y$, then fits a model to the residuals, $h_1(x) = y - F_1(x)$, and then creates a new model, $F_2(x) = F_1(x) + h_1(x)$, and it continues over and over."
   ]
  },
  {
   "cell_type": "code",
   "execution_count": 171,
   "metadata": {},
   "outputs": [
    {
     "name": "stdout",
     "output_type": "stream",
     "text": [
      "29.235 is the Mean Squared Error.\n",
      "5.407 is the Root Mean Squared Error.\n",
      "0.711 is the R-squared.\n",
      "0.324 is the mean of the residuals.\n",
      "0.801 is the test-statistic for the Shapiro-Wilk test with a p-value of 0.0.\n",
      "We conclude that the residuals are not Normally distributed.\n",
      "2.122 is the test-statistic for the Durbin-Watson test.\n",
      "We conclude there is little to no autocorrelation in the residuals and therefore they are independently distributed.\n"
     ]
    },
    {
     "data": {
      "image/png": "[encoded data removed]",
      "text/plain": [
       "<Figure size 432x288 with 1 Axes>"
      ]
     },
     "metadata": {},
     "output_type": "display_data"
    },
    {
     "data": {
      "image/png": "[encoded data removed]",
      "text/plain": [
       "<Figure size 432x288 with 1 Axes>"
      ]
     },
     "metadata": {},
     "output_type": "display_data"
    },
    {
     "data": {
      "image/png": "[encoded data removed]",
      "text/plain": [
       "<Figure size 432x288 with 1 Axes>"
      ]
     },
     "metadata": {},
     "output_type": "display_data"
    },
    {
     "data": {
      "image/png": "[encoded data removed]",
      "text/plain": [
       "<Figure size 432x288 with 1 Axes>"
      ]
     },
     "metadata": {},
     "output_type": "display_data"
    }
   ],
   "source": [
    "# Gradient Boosting Regressor\n",
    "regr_XGB = XGBRegressor(random_state = 10)\n",
    "\n",
    "# Hyper-parameter tuning\n",
    "parameters_XGB = {'n_estimators': [10, 20, 50, 100, 400], 'max_depth': [2,5,7,9], 'min_samples_split': [2,3,4,5],\n",
    "                 'learning_rate': [0.1, 0.2], 'loss': ['ls']}\n",
    "grid_XGB = GridSearchCV(estimator = regr_XGB, param_grid = parameters_XGB)\n",
    "model_XGB = grid_XGB.fit(X_train, y_train)\n",
    "predictions_XGB = model_XGB.predict(X_test)\n",
    "\n",
    "# MSE \n",
    "mse_XGB = round(mean_squared_error(y_test, predictions_XGB), 3)\n",
    "rmse_XGB = round(np.sqrt(mse_XGB), 3)\n",
    "print(\"{} is the Mean Squared Error.\".format(mse_XGB))\n",
    "print(\"{} is the Root Mean Squared Error.\".format(rmse_XGB))\n",
    "\n",
    "# R-squared\n",
    "r2_XGB = round(model_XGB.score(X_test, y_test), 3)\n",
    "print(\"{} is the R-squared.\".format(r2_XGB))\n",
    "    \n",
    "# Residuals\n",
    "residuals_XGB = y_test - predictions_XGB\n",
    "residual_tests(residuals_XGB)\n",
    "\n",
    "# Plotting\n",
    "plot_model_diagnostics(predictions_XGB, y_test, residuals_XGB)\n",
    "\n",
    "# plot variable importance\n",
    "plot_variable_importance(model_XGB)"
   ]
  },
  {
   "cell_type": "markdown",
   "metadata": {},
   "source": [
    "### k-Nearest Neighbors\n",
    "\n",
    "Unlike decision trees and random forests, k-Nearest Neighbors is an unsupervised learning technique. It can also be utilized for both classification and regression. This algorithm uses \"feature similarity\" to predict the values of new data points, which means that predictions are made based on how closely a given value resembles others in the data set. The name of the algorithm refers to the number of \"neighbors\" (or nearby data point), $k$, that are considered when determining the predicted value of a data point."
   ]
  },
  {
   "cell_type": "code",
   "execution_count": 172,
   "metadata": {},
   "outputs": [
    {
     "name": "stdout",
     "output_type": "stream",
     "text": [
      "31.013 is the Mean Squared Error.\n",
      "5.569 is the Root Mean Squared Error.\n",
      "0.694 is the R-squared.\n",
      "0.02 is the mean of the residuals.\n",
      "0.776 is the test-statistic for the Shapiro-Wilk test with a p-value of 0.0.\n",
      "We conclude that the residuals are not Normally distributed.\n",
      "2.177 is the test-statistic for the Durbin-Watson test.\n",
      "We conclude there is little to no autocorrelation in the residuals and therefore they are independently distributed.\n"
     ]
    },
    {
     "data": {
      "image/png": "[encoded data removed]",
      "text/plain": [
       "<Figure size 432x288 with 1 Axes>"
      ]
     },
     "metadata": {},
     "output_type": "display_data"
    },
    {
     "data": {
      "image/png": "[encoded data removed]",
      "text/plain": [
       "<Figure size 432x288 with 1 Axes>"
      ]
     },
     "metadata": {},
     "output_type": "display_data"
    },
    {
     "data": {
      "image/png": "[encoded data removed]",
      "text/plain": [
       "<Figure size 432x288 with 1 Axes>"
      ]
     },
     "metadata": {},
     "output_type": "display_data"
    }
   ],
   "source": [
    "# KNN Regression\n",
    "regr_KNN = KNeighborsRegressor()\n",
    "\n",
    "# Hyper-parameter tuning\n",
    "parameters_KNN = {'n_neighbors': range(1,11), 'weights': ['uniform', 'distance'], \n",
    "                 'metric': ['euclidean', 'manhattan'],\n",
    "                 'algorithm': ['auto', 'ball_tree', 'kd_tree', 'brute']}\n",
    "grid_KNN = GridSearchCV(estimator = regr_KNN, param_grid = parameters_KNN)\n",
    "model_KNN = grid_KNN.fit(X_train, y_train)\n",
    "predictions_KNN = model_KNN.predict(X_test)\n",
    "\n",
    "# MSE \n",
    "mse_KNN = round(mean_squared_error(y_test, predictions_KNN), 3)\n",
    "rmse_KNN = round(np.sqrt(mse_KNN), 3)\n",
    "print(\"{} is the Mean Squared Error.\".format(mse_KNN))\n",
    "print(\"{} is the Root Mean Squared Error.\".format(rmse_KNN))\n",
    "\n",
    "# R-squared\n",
    "r2_KNN = round(model_KNN.score(X_test, y_test), 3)\n",
    "print(\"{} is the R-squared.\".format(r2_KNN))\n",
    "    \n",
    "# Residuals\n",
    "residuals_KNN = y_test - predictions_KNN\n",
    "residual_tests(residuals_KNN)\n",
    "\n",
    "# Plotting\n",
    "plot_model_diagnostics(predictions_KNN, y_test, residuals_KNN)"
   ]
  },
  {
   "cell_type": "markdown",
   "metadata": {},
   "source": [
    "### Comparing Algorithms\n",
    "\n",
    "Now that we have calculated the MSE and the R-squared for all of the different models, we want to compare them. We want to minimize the MSE and maximize the R-squared. In order to pick the best model, we can plot these two values for each of the models onto a scatterplot. The best model would have a low MSE and a high R2, so ideally it would be in the upper left quadrant of the plot, where MSE is on the x-axis and R-squared in on the y-axis."
   ]
  },
  {
   "cell_type": "code",
   "execution_count": 173,
   "metadata": {},
   "outputs": [
    {
     "name": "stdout",
     "output_type": "stream",
     "text": [
      "             Algorithm    MSE  RMSE    R2\n",
      "0       OLS Regression  38.40  6.20  0.62\n",
      "1        Decision Tree  33.07  5.75  0.67\n",
      "2        Random Forest  29.59  5.44  0.71\n",
      "3    Gradient Boosting  29.23  5.41  0.71\n",
      "4  k-Nearest Neighbors  31.01  5.57  0.69\n"
     ]
    },
    {
     "data": {
      "text/plain": [
       "Text(0.5, 1.0, 'MSE vs R-squared, by Algorithm, Small Models')"
      ]
     },
     "execution_count": 173,
     "metadata": {},
     "output_type": "execute_result"
    },
    {
     "data": {
      "image/png": "[encoded data removed]",
      "text/plain": [
       "<Figure size 432x288 with 1 Axes>"
      ]
     },
     "metadata": {},
     "output_type": "display_data"
    }
   ],
   "source": [
    "# Initializing a matrix that will be filled with MSE and R-squared\n",
    "records_full = []\n",
    "algorithms = ('OLS Regression', 'Decision Tree', 'Random Forest', 'Gradient Boosting', 'k-Nearest Neighbors')\n",
    "mse_all = (mse_LR, mse_DT, mse_RF, mse_XGB, mse_KNN)\n",
    "rmse_all = (rmse_LR, rmse_DT, rmse_RF, rmse_XGB, rmse_KNN)\n",
    "r2_all = (r2_LR, r2_DT, r2_RF, r2_XGB, r2_KNN)\n",
    "\n",
    "# Filling matrix in with values\n",
    "for i in range(0,5):\n",
    "    records_full.append({'Algorithm': algorithms[i], \n",
    "                         'MSE': mse_all[i], \n",
    "                         'RMSE': rmse_all[i],\n",
    "                         'R2': r2_all[i]})\n",
    "\n",
    "# converting into a DataFrame\n",
    "records_full = pd.DataFrame(records_full)\n",
    "print(records_full)\n",
    "\n",
    "plt.figure()\n",
    "g = sns.scatterplot(x = 'MSE', y = 'R2', data = records_full, hue = 'Algorithm')\n",
    "g.legend(loc = 'center left', bbox_to_anchor = (1.25, 0.5), ncol = 1)\n",
    "plt.title('MSE vs R-squared, by Algorithm, Small Models')"
   ]
  },
  {
   "cell_type": "markdown",
   "metadata": {},
   "source": [
    "So the gradient boosting model is the strongest one in this case, and the very simple linear regression model is the worst performing. This illustrates the difference between a very complex model and a very simple one and how effective they are, respectively. Note the clear negative correlation between R2 and MSE. This makes sense since the greater the error of the model (MSE), the less variance in the response variable that would be explained by the predictors (R-squared). Also notable is that the decision tree model was 'worse' than both gradient boosting and random forest, this is at least in part due to the fact that they are ensemble applications of decision trees.\n",
    "\n",
    "#### Feature Trimming\n",
    "Recall that earlier I mentioned using a larger model that included more features to fit the regression models. When testing them I found that the strongest models actually lost some of the coefficient of determination (with the strongest model only losing 0.1) and the simpler models pretty much stayed the same or got slightly more effective.\n",
    "\n",
    "Since the strongest model only lost `0.1` from the R-squared, I decided it was worth it to drop the excess features. In the original model there were 11 dependent variables and in the more conservative one there are only 2, and the R-squared coefficient is still relatively strong. \n",
    "\n",
    "It's important to note that the most complex and effective models, gradient boosting and random forest, were the most hit hard by losing the other features. Conversely, the other models got stronger or stayed about the same. This lends credence to the idea that simple models prefer less features (or don't need many features) whereas the complex ones are better when it comes to using many features. "
   ]
  },
  {
   "cell_type": "markdown",
   "metadata": {},
   "source": [
    "## Predictions\n",
    "Now that we know which model is the best, we can use it to generate predictions. Again the response variable in this case is `MEDV` or the median value of the home, in the thousands. Our independent variables are `LSTAT`, the % lower status of the population, and `RM` the average number of rooms. So suppose we have a new house whose `LSTAT` is 14 and whose `RM` is 6.\n",
    "\n",
    "Recall that the training and the test data were scaled to a Normal distribution with the `StandardScaler` function. We will have to scale any new input data as well so that our model can recognize it.\n",
    "\n",
    "It's important also to note that the gradient boosted model, as well as the random forest and decision tree models, are not good at extrapolating to data that is outside of the range the data was trained on. For example, if the data was only taught to predict `MEDV` based on values of `RM` between 3 and 10, it will not have a good prediction for an `RM` of 12. This is a problem inherent to decision tree models and the models that utilize them e.g. gradient boosting trees, random forest. "
   ]
  },
  {
   "cell_type": "code",
   "execution_count": 174,
   "metadata": {},
   "outputs": [
    {
     "data": {
      "text/plain": [
       "20.005268"
      ]
     },
     "execution_count": 174,
     "metadata": {},
     "output_type": "execute_result"
    }
   ],
   "source": [
    "# Creating new data\n",
    "new_data = pd.DataFrame({'RM': [6], 'LSTAT': [14]})\n",
    "# scaling new data\n",
    "new_data = scaler.transform(new_data)\n",
    "new_data = pd.DataFrame(new_data, columns = ['RM', 'LSTAT'])\n",
    "# Prediction\n",
    "model_XGB.predict(new_data)[0]"
   ]
  },
  {
   "cell_type": "markdown",
   "metadata": {},
   "source": [
    "As you can see the expected value for `MEDV` is about 20, or \\$20k.\n",
    "\n",
    "### Visualizing Predictions\n",
    "\n",
    "The following uses 3D scatterplots from `plotly.express` to visualize the predictions of the strongest regression model (XGBoost) and the weakest one (OLS Regression), the x and y values in this case are `RM` and `LSTAT` respectively, whereas the z value is the predicted value of the response variable `MEDV`. They the marks also colored to distinguish how far away they were from the true value. "
   ]
  },
  {
   "cell_type": "code",
   "execution_count": 182,
   "metadata": {},
   "outputs": [
    {
     "name": "stdout",
     "output_type": "stream",
     "text": [
      "     RM  LSTAT  MEDV_pred  MEDV_true  Residual\n",
      "0  1.37  -0.81      32.13       34.6      2.47\n",
      "1  0.36  -1.20      29.16       31.5      2.34\n",
      "2 -0.24  -0.48      22.51       20.6     -1.91\n",
      "3 -0.31   0.06      21.01       14.5     -6.51\n",
      "4 -0.82  -0.15      20.65       16.2     -4.45\n"
     ]
    },
    {
     "data": {
      "application/vnd.plotly.v1+json": {
       "config": {
        "plotlyServerURL": "https://plot.ly"
       },
       "data": [
        {
         "hoverlabel": {
          "namelength": 0
         },
         "hovertemplate": "RM=%{x}<br>LSTAT=%{y}<br>MEDV_pred=%{z}<br>Residual=%{marker.color}",
         "legendgroup": "",
         "marker": {
          "color": [
           2.4679199218750014,
           2.336517333984375,
           -1.9064105987548814,
           -6.510473251342773,
           -4.4474227905273445,
           1.2008216857910163,
           -1.0872070312499993,
           3.300821685791014,
           -1.1279346466064446,
           -1.439472961425782,
           -0.4819572448730476,
           -1.4938205718994144,
           -2.557413101196289,
           0.9954990386962876,
           3.2045135498046875,
           -1.7091926574707017,
           -1.8265724182128906,
           -4.547422790527342,
           -0.6565334320068352,
           4.9560699462890625,
           2.843466567993161,
           -6.092124557495117,
           2.4954990386962876,
           -3.5580661773681648,
           -2.6744155883789062,
           -2.8167188644409187,
           -1.9699840545654297,
           0.20893211364746023,
           2.1954990386962905,
           -3.5474227905273423,
           0.49549903869628764,
           3.799011993408204,
           5.529487609863281,
           0.11804275512695384,
           11.785399627685546,
           -5.739381408691408,
           -6.675971984863281,
           -8.321473693847656,
           6.0720201492309585,
           -0.6873054504394531,
           2.3990119934082017,
           -2.8944393157959,
           2.406179428100586,
           -2.3759719848632805,
           3.318042755126953,
           3.5005813598632827,
           0.9605270385742202,
           2.0518630981445316,
           2.625770187377931,
           -3.093820571899414,
           -0.7873054504394545,
           -1.0866748809814446,
           -2.006410598754883,
           -0.2699840545654304,
           -1.3481369018554688,
           6.3518630981445305,
           -6.70805206298828,
           -4.506681060791017,
           -4.8744155883789055,
           0.18952674865722585,
           -2.193197250366211,
           12.309386253356934,
           1.4954990386962876,
           0.5679199218750028,
           -0.44087066650390483,
           5.593589401245119,
           0.8061794281005845,
           -1.1183609008789048,
           3.6419338226318345,
           -0.7873054504394545,
           -2.2912536621093746,
           8.42620677947998,
           -2.8455154418945305,
           -1.373606491088868,
           -3.297294998168944,
           -4.57379322052002,
           1.0180427551269524,
           -5.831986236572263,
           -7.716751289367676,
           0.09358940124511861,
           -1.128119659423831,
           10.50479507446289,
           1.3255844116210938,
           -6.439472961425782,
           -2.727480888366699,
           0.2518630981445309,
           1.7129459381103516,
           -1.5474227905273423,
           -3.7737932205200195,
           -3.4474227905273445,
           2.35135726928711,
           1.9525772094726577,
           -0.9064105987548814,
           -1.3994186401367195,
           11.872519111633302,
           -1.1394729614257812,
           2.447917938232422,
           4.7045135498046875,
           -6.073793220520019,
           24.606325149536133,
           0.7262067794799805,
           -2.2737932205200195,
           -3.0737932205200202,
           -1.5819572448730455,
           9.141403961181638,
           -3.0474227905273423,
           1.0180427551269524,
           -4.674415588378906,
           -6.090472602844239,
           6.248297119140624,
           -0.6819572448730469,
           5.202705001831056,
           -0.1376701354980483,
           -0.548136901855468,
           2.9008216857910156,
           -0.44742279052734446,
           5.80058135986328,
           -2.986501693725586,
           28.312694549560547,
           -4.848136901855469,
           -1.7931972503662106,
           -4.3394729614257805,
           1.152577209472657,
           -0.5819572448730455,
           -0.910473251342772,
           0.051863098144531605,
           -5.347422790527343,
           0.7785263061523438,
           0.4479179382324219,
           -0.4517028808593757,
           -6.710805130004882,
           -2.4474227905273445,
           -3.169984054565429,
           -2.5279346466064467,
           1.9008216857910156,
           4.927589416503906,
           6.506179428100587,
           3.1482971191406257,
           0.38952674865722514,
           0.3008216857910142,
           -3.3742298126220707,
           -6.348136901855469,
           -2.1742298126220696,
           -0.9585960388183601,
           0.6027050018310547,
           -0.5517028808593736,
           27.493589401245117,
           1.976128005981444,
           2.2061794281005866,
           2.3573287963867173,
           -4.228790664672852,
           1.2949562072753906
          ],
          "coloraxis": "coloraxis",
          "symbol": "circle"
         },
         "mode": "markers",
         "name": "",
         "scene": "scene",
         "showlegend": false,
         "type": "scatter3d",
         "x": [
          1.3658412405731906,
          0.36057831169864596,
          -0.2409086485143769,
          -0.3077405329824907,
          -0.8187259829782769,
          0.15172867273579127,
          0.5875282527049491,
          0.04591152232794383,
          0.25197649943796196,
          0.16425965107356183,
          -0.11699119606308338,
          -0.8075873355669246,
          0.5304426847217694,
          -0.5639294234435935,
          2.1720008469698118,
          0.3981712467119601,
          0.0723658099299057,
          -1.8379122211170116,
          1.1333219758612116,
          2.898797590560549,
          1.2669857447974393,
          0.9397879770889654,
          -0.5862067182662981,
          -0.39963437412614683,
          -0.6613925882929265,
          -0.44140430191871827,
          0.4761417785914262,
          0.265899808702152,
          -0.8075873355669246,
          -0.8173336520518574,
          -0.6558232645872497,
          -0.43444264728662324,
          3.386113414807211,
          0.18514461496984816,
          1.0038351997042414,
          0.9815579048815368,
          -0.7463247748044876,
          -0.12673751254801616,
          -0.4038113669054041,
          -0.6168379986475173,
          -0.39128038856763353,
          0.41766387968182694,
          -0.4748202441527752,
          -0.5917760419719736,
          -0.05990562807990238,
          0.3564013189193899,
          -0.24926263407289145,
          -0.9690977230315323,
          -0.5110208482396699,
          -0.49709753897547976,
          -0.5806373945606214,
          -0.21723902276525406,
          -0.24787030314647193,
          0.5917052454842064,
          -1.37705068447231,
          -1.2573102248002739,
          0.9244723368983558,
          1.0177585089684316,
          -0.5527907760322412,
          -0.08496758475544475,
          0.07654280270916296,
          0.7782775896243577,
          -0.8131566592726014,
          1.3198943200013618,
          -0.3564721154071572,
          0.11413573772247712,
          -0.48874355341696524,
          0.6056285547483965,
          -0.4274809926545282,
          -0.5681064162228509,
          0.3508319952137131,
          -0.17964608775193988,
          -2.6802724316005277,
          -0.21027736813315778,
          0.6641064536579957,
          -0.19635405886896773,
          -0.11420653421024438,
          2.472744327076325,
          -0.6140533367946782,
          0.17261363663207638,
          2.1260539263979847,
          2.790195778299865,
          -0.6683542429250215,
          -0.11838352698950164,
          0.15590566551504853,
          -1.0066906580448465,
          -0.23812398666153914,
          -0.5750680708549458,
          0.12109739235457215,
          -0.5500061141794035,
          0.3661476354043227,
          -0.5597524306643363,
          0.17818296033775313,
          0.2269145427624196,
          -0.1685074403405876,
          -0.22837767017660635,
          -0.5889913801191359,
          2.2778179973776593,
          0.06958114807706793,
          -1.8420892138962688,
          -0.1657227784877486,
          -0.13926849088578797,
          -0.09749856309321654,
          -0.23812398666153914,
          0.904979703928489,
          -0.974667046737209,
          0.1252743851338294,
          -0.7602480840686776,
          -1.6708325099467272,
          -0.9593514065465995,
          0.026418889358078235,
          0.7225843525675962,
          1.3310329674127142,
          -0.9273277952389621,
          -0.28824790001262385,
          -1.1654163836566165,
          0.35222432614013266,
          -0.4553276111829083,
          -0.5820297254870409,
          -1.0609915641751897,
          0.06679648622423016,
          -0.13926849088578797,
          -0.7393631201723926,
          0.11552806864889661,
          -0.17546909497268262,
          -1.2392099227568265,
          -1.7836113149866695,
          -0.2952095546447189,
          -0.7059471779383356,
          -0.4595046039621656,
          0.4761417785914262,
          -0.7880947025970577,
          0.43576418172527426,
          0.28121544889276157,
          0.11135107586963935,
          2.202632127351031,
          -0.8674575654029434,
          -0.5639294234435935,
          -0.08914457753470201,
          -0.18103841867835815,
          -0.8242953066839537,
          -1.223894282566217,
          -0.9134044859747721,
          0.8089088700055757,
          0.6209441949390061,
          -0.4567199421093278,
          -0.10724487957814934,
          0.3410856787287803,
          -0.5764604017813654,
          0.7894162370357101,
          -0.05851329715348288,
          1.8823960142746523
         ],
         "y": [
          -0.813499298010096,
          -1.2018688672946005,
          -0.47944715100314467,
          0.05829532954463052,
          -0.15082674622394865,
          -0.1752695862488475,
          -0.3327901108537514,
          -0.22279733074170638,
          -0.04626570833965907,
          0.3271665698185182,
          -0.742886649049277,
          0.610975101218733,
          -0.08564583949088492,
          0.2972919875658642,
          -1.1950791895099062,
          -0.9669460159441834,
          -1.0375586649050024,
          0.00397790726707765,
          -0.5432701221792696,
          -1.2616180317999088,
          -0.41019243759926455,
          0.6245544567881214,
          0.3746943143113771,
          0.4195061876903584,
          1.2899428796881462,
          0.8689828570371103,
          -0.899049238097242,
          0.8241709836581288,
          0.2918602453381088,
          -0.024538739428637824,
          0.328524505375457,
          -0.1304577128698662,
          -1.0837284738409225,
          -0.7347390357076441,
          0.2959340520089252,
          -1.3132195829635842,
          -0.3395797886384456,
          0.2592697919715769,
          1.1826659706899791,
          -0.5215431532682484,
          -0.024538739428637824,
          -0.39932895314375394,
          0.6164068434464882,
          -0.358590886435589,
          -0.9655880803872446,
          -0.7089382601258064,
          0.32173482759076305,
          1.2003191329301837,
          0.7494845280264932,
          0.5878901967507731,
          -0.45636224653518465,
          0.11261275182218362,
          -0.4319194065102858,
          -0.8216469113517291,
          1.6701648356310177,
          1.1582231306650803,
          -1.2331013851041934,
          -1.4435813964297115,
          1.599552186670199,
          -0.036760159441087244,
          0.682945685736491,
          0.9735438949213999,
          0.4317276077028078,
          -0.9669460159441834,
          -0.6247462555955992,
          -0.4387090842949798,
          0.5824584545230175,
          -1.1013816360811273,
          0.29864992312280303,
          -0.5188272821543708,
          1.150075517323447,
          1.2016770684871227,
          2.4469039742000263,
          0.829602725885884,
          -1.0552118271452071,
          1.879286911399597,
          -0.7021485823411122,
          -1.1407617672323533,
          2.357280227442064,
          -0.516111411040493,
          -1.227669642876438,
          -0.7021485823411122,
          0.9871232504907879,
          0.3475356031726007,
          0.917868537086908,
          1.1419279039818142,
          0.2022364985801462,
          -0.07885616170619093,
          1.557456184405095,
          0.008051713937894042,
          -1.0932340227394943,
          -0.23637668631109485,
          -0.47129953766151167,
          -0.7985620068837689,
          0.8879939548342535,
          0.34074592538790643,
          0.23890075861749446,
          -1.2100164806362332,
          1.0468724149960964,
          -1.2697656451415418,
          1.5683196688606058,
          1.2098246818287555,
          1.2451310063091652,
          -0.9004071736541809,
          -1.0891602160686777,
          -0.015033190530066,
          -0.9289238203498963,
          0.9925549927185435,
          2.3179000962908383,
          0.1859412718968804,
          -0.8773222691862208,
          -1.0538538915882685,
          -1.0592856338160237,
          1.3945039175724359,
          -0.2350187507541558,
          -0.12502597064211102,
          -0.9886729848552046,
          0.2484063075160663,
          -0.5066058621419212,
          2.005574918194908,
          0.7033147190905732,
          0.3475356031726007,
          -0.29748378637334194,
          -0.7795509090866254,
          -0.03811809499802604,
          1.9295305270063337,
          -0.06663474169374152,
          0.28371263199647573,
          0.20902617636484044,
          0.11397068737912243,
          -1.0959498938533718,
          -0.18070132847660292,
          -0.711654131239684,
          0.025704876178098895,
          -0.28662030191783133,
          -1.3091457762927676,
          0.6775139435087357,
          0.12211830072075545,
          0.06780087844320234,
          -0.1725537151349699,
          0.7793591102791477,
          1.542518893278768,
          0.7780011747222086,
          -1.0864443449548,
          -1.0755808604992896,
          0.16557223854279796,
          -0.4183400509408976,
          -0.6627684511898863,
          0.6747980723948577,
          -0.7727612313019312,
          0.5199934189038319,
          -1.3037140340650124
         ],
         "z": [
          32.132080078125,
          29.163482666015625,
          22.506410598754883,
          21.010473251342773,
          20.647422790527344,
          21.099178314208984,
          23.88720703125,
          21.099178314208984,
          20.927934646606445,
          18.13947296142578,
          23.681957244873047,
          16.593820571899414,
          23.55741310119629,
          17.90450096130371,
          45.29548645019531,
          25.809192657470703,
          24.32657241821289,
          20.647422790527344,
          30.956533432006836,
          45.04393005371094,
          30.956533432006836,
          16.492124557495117,
          17.90450096130371,
          17.758066177368164,
          13.174415588378906,
          15.516718864440918,
          26.46998405456543,
          16.49106788635254,
          17.90450096130371,
          20.647422790527344,
          17.90450096130371,
          20.500988006591797,
          44.47051239013672,
          23.681957244873047,
          18.914600372314453,
          39.139381408691406,
          21.67597198486328,
          19.221473693847656,
          13.027979850769043,
          21.687305450439453,
          20.500988006591797,
          25.2944393157959,
          16.593820571899414,
          21.67597198486328,
          23.681957244873047,
          23.59941864013672,
          18.13947296142578,
          13.348136901855469,
          16.47422981262207,
          16.593820571899414,
          21.687305450439453,
          20.386674880981445,
          22.506410598754883,
          26.46998405456543,
          13.348136901855469,
          13.348136901855469,
          36.30805206298828,
          39.406681060791016,
          13.174415588378906,
          21.010473251342773,
          16.69319725036621,
          15.190613746643066,
          17.90450096130371,
          32.132080078125,
          21.540870666503906,
          22.506410598754883,
          16.593820571899414,
          31.218360900878906,
          17.758066177368164,
          21.687305450439453,
          13.191253662109375,
          13.27379322052002,
          11.645515441894531,
          16.573606491088867,
          29.897294998168945,
          13.27379322052002,
          23.681957244873047,
          44.531986236572266,
          14.016751289367676,
          22.506410598754883,
          44.92811965942383,
          39.49520492553711,
          13.174415588378906,
          18.13947296142578,
          15.2274808883667,
          13.348136901855469,
          19.78705406188965,
          20.647422790527344,
          13.27379322052002,
          20.647422790527344,
          27.44864273071289,
          20.647422790527344,
          22.506410598754883,
          23.59941864013672,
          15.2274808883667,
          18.13947296142578,
          19.552082061767578,
          45.29548645019531,
          13.27379322052002,
          25.393674850463867,
          13.27379322052002,
          13.27379322052002,
          13.27379322052002,
          23.681957244873047,
          32.15859603881836,
          20.647422790527344,
          23.681957244873047,
          13.174415588378906,
          14.190472602844238,
          20.151702880859375,
          23.681957244873047,
          29.897294998168945,
          35.53767013549805,
          13.348136901855469,
          21.099178314208984,
          20.647422790527344,
          23.59941864013672,
          18.986501693725586,
          21.687305450439453,
          13.348136901855469,
          16.69319725036621,
          18.13947296142578,
          20.647422790527344,
          23.681957244873047,
          21.010473251342773,
          13.348136901855469,
          20.647422790527344,
          19.221473693847656,
          19.552082061767578,
          20.151702880859375,
          29.510805130004883,
          20.647422790527344,
          26.46998405456543,
          20.927934646606445,
          21.099178314208984,
          45.072410583496094,
          16.593820571899414,
          20.151702880859375,
          21.010473251342773,
          21.099178314208984,
          16.47422981262207,
          13.348136901855469,
          16.47422981262207,
          32.15859603881836,
          29.897294998168945,
          20.151702880859375,
          22.506410598754883,
          22.423871994018555,
          16.593820571899414,
          27.54267120361328,
          16.82879066467285,
          44.70504379272461
         ]
        }
       ],
       "layout": {
        "coloraxis": {
         "colorbar": {
          "title": {
           "text": "Residual"
          }
         },
         "colorscale": [
          [
           0,
           "#0d0887"
          ],
          [
           0.1111111111111111,
           "#46039f"
          ],
          [
           0.2222222222222222,
           "#7201a8"
          ],
          [
           0.3333333333333333,
           "#9c179e"
          ],
          [
           0.4444444444444444,
           "#bd3786"
          ],
          [
           0.5555555555555556,
           "#d8576b"
          ],
          [
           0.6666666666666666,
           "#ed7953"
          ],
          [
           0.7777777777777778,
           "#fb9f3a"
          ],
          [
           0.8888888888888888,
           "#fdca26"
          ],
          [
           1,
           "#f0f921"
          ]
         ]
        },
        "height": 600,
        "legend": {
         "tracegroupgap": 0
        },
        "scene": {
         "domain": {
          "x": [
           0,
           0.98
          ],
          "y": [
           0,
           1
          ]
         },
         "xaxis": {
          "title": {
           "text": "RM"
          }
         },
         "yaxis": {
          "title": {
           "text": "LSTAT"
          }
         },
         "zaxis": {
          "range": [
           5,
           50
          ],
          "title": {
           "text": "MEDV_pred"
          }
         }
        },
        "template": {
         "data": {
          "bar": [
           {
            "error_x": {
             "color": "#2a3f5f"
            },
            "error_y": {
             "color": "#2a3f5f"
            },
            "marker": {
             "line": {
              "color": "#E5ECF6",
              "width": 0.5
             }
            },
            "type": "bar"
           }
          ],
          "barpolar": [
           {
            "marker": {
             "line": {
              "color": "#E5ECF6",
              "width": 0.5
             }
            },
            "type": "barpolar"
           }
          ],
          "carpet": [
           {
            "aaxis": {
             "endlinecolor": "#2a3f5f",
             "gridcolor": "white",
             "linecolor": "white",
             "minorgridcolor": "white",
             "startlinecolor": "#2a3f5f"
            },
            "baxis": {
             "endlinecolor": "#2a3f5f",
             "gridcolor": "white",
             "linecolor": "white",
             "minorgridcolor": "white",
             "startlinecolor": "#2a3f5f"
            },
            "type": "carpet"
           }
          ],
          "choropleth": [
           {
            "colorbar": {
             "outlinewidth": 0,
             "ticks": ""
            },
            "type": "choropleth"
           }
          ],
          "contour": [
           {
            "colorbar": {
             "outlinewidth": 0,
             "ticks": ""
            },
            "colorscale": [
             [
              0,
              "#0d0887"
             ],
             [
              0.1111111111111111,
              "#46039f"
             ],
             [
              0.2222222222222222,
              "#7201a8"
             ],
             [
              0.3333333333333333,
              "#9c179e"
             ],
             [
              0.4444444444444444,
              "#bd3786"
             ],
             [
              0.5555555555555556,
              "#d8576b"
             ],
             [
              0.6666666666666666,
              "#ed7953"
             ],
             [
              0.7777777777777778,
              "#fb9f3a"
             ],
             [
              0.8888888888888888,
              "#fdca26"
             ],
             [
              1,
              "#f0f921"
             ]
            ],
            "type": "contour"
           }
          ],
          "contourcarpet": [
           {
            "colorbar": {
             "outlinewidth": 0,
             "ticks": ""
            },
            "type": "contourcarpet"
           }
          ],
          "heatmap": [
           {
            "colorbar": {
             "outlinewidth": 0,
             "ticks": ""
            },
            "colorscale": [
             [
              0,
              "#0d0887"
             ],
             [
              0.1111111111111111,
              "#46039f"
             ],
             [
              0.2222222222222222,
              "#7201a8"
             ],
             [
              0.3333333333333333,
              "#9c179e"
             ],
             [
              0.4444444444444444,
              "#bd3786"
             ],
             [
              0.5555555555555556,
              "#d8576b"
             ],
             [
              0.6666666666666666,
              "#ed7953"
             ],
             [
              0.7777777777777778,
              "#fb9f3a"
             ],
             [
              0.8888888888888888,
              "#fdca26"
             ],
             [
              1,
              "#f0f921"
             ]
            ],
            "type": "heatmap"
           }
          ],
          "heatmapgl": [
           {
            "colorbar": {
             "outlinewidth": 0,
             "ticks": ""
            },
            "colorscale": [
             [
              0,
              "#0d0887"
             ],
             [
              0.1111111111111111,
              "#46039f"
             ],
             [
              0.2222222222222222,
              "#7201a8"
             ],
             [
              0.3333333333333333,
              "#9c179e"
             ],
             [
              0.4444444444444444,
              "#bd3786"
             ],
             [
              0.5555555555555556,
              "#d8576b"
             ],
             [
              0.6666666666666666,
              "#ed7953"
             ],
             [
              0.7777777777777778,
              "#fb9f3a"
             ],
             [
              0.8888888888888888,
              "#fdca26"
             ],
             [
              1,
              "#f0f921"
             ]
            ],
            "type": "heatmapgl"
           }
          ],
          "histogram": [
           {
            "marker": {
             "colorbar": {
              "outlinewidth": 0,
              "ticks": ""
             }
            },
            "type": "histogram"
           }
          ],
          "histogram2d": [
           {
            "colorbar": {
             "outlinewidth": 0,
             "ticks": ""
            },
            "colorscale": [
             [
              0,
              "#0d0887"
             ],
             [
              0.1111111111111111,
              "#46039f"
             ],
             [
              0.2222222222222222,
              "#7201a8"
             ],
             [
              0.3333333333333333,
              "#9c179e"
             ],
             [
              0.4444444444444444,
              "#bd3786"
             ],
             [
              0.5555555555555556,
              "#d8576b"
             ],
             [
              0.6666666666666666,
              "#ed7953"
             ],
             [
              0.7777777777777778,
              "#fb9f3a"
             ],
             [
              0.8888888888888888,
              "#fdca26"
             ],
             [
              1,
              "#f0f921"
             ]
            ],
            "type": "histogram2d"
           }
          ],
          "histogram2dcontour": [
           {
            "colorbar": {
             "outlinewidth": 0,
             "ticks": ""
            },
            "colorscale": [
             [
              0,
              "#0d0887"
             ],
             [
              0.1111111111111111,
              "#46039f"
             ],
             [
              0.2222222222222222,
              "#7201a8"
             ],
             [
              0.3333333333333333,
              "#9c179e"
             ],
             [
              0.4444444444444444,
              "#bd3786"
             ],
             [
              0.5555555555555556,
              "#d8576b"
             ],
             [
              0.6666666666666666,
              "#ed7953"
             ],
             [
              0.7777777777777778,
              "#fb9f3a"
             ],
             [
              0.8888888888888888,
              "#fdca26"
             ],
             [
              1,
              "#f0f921"
             ]
            ],
            "type": "histogram2dcontour"
           }
          ],
          "mesh3d": [
           {
            "colorbar": {
             "outlinewidth": 0,
             "ticks": ""
            },
            "type": "mesh3d"
           }
          ],
          "parcoords": [
           {
            "line": {
             "colorbar": {
              "outlinewidth": 0,
              "ticks": ""
             }
            },
            "type": "parcoords"
           }
          ],
          "scatter": [
           {
            "marker": {
             "colorbar": {
              "outlinewidth": 0,
              "ticks": ""
             }
            },
            "type": "scatter"
           }
          ],
          "scatter3d": [
           {
            "line": {
             "colorbar": {
              "outlinewidth": 0,
              "ticks": ""
             }
            },
            "marker": {
             "colorbar": {
              "outlinewidth": 0,
              "ticks": ""
             }
            },
            "type": "scatter3d"
           }
          ],
          "scattercarpet": [
           {
            "marker": {
             "colorbar": {
              "outlinewidth": 0,
              "ticks": ""
             }
            },
            "type": "scattercarpet"
           }
          ],
          "scattergeo": [
           {
            "marker": {
             "colorbar": {
              "outlinewidth": 0,
              "ticks": ""
             }
            },
            "type": "scattergeo"
           }
          ],
          "scattergl": [
           {
            "marker": {
             "colorbar": {
              "outlinewidth": 0,
              "ticks": ""
             }
            },
            "type": "scattergl"
           }
          ],
          "scattermapbox": [
           {
            "marker": {
             "colorbar": {
              "outlinewidth": 0,
              "ticks": ""
             }
            },
            "type": "scattermapbox"
           }
          ],
          "scatterpolar": [
           {
            "marker": {
             "colorbar": {
              "outlinewidth": 0,
              "ticks": ""
             }
            },
            "type": "scatterpolar"
           }
          ],
          "scatterpolargl": [
           {
            "marker": {
             "colorbar": {
              "outlinewidth": 0,
              "ticks": ""
             }
            },
            "type": "scatterpolargl"
           }
          ],
          "scatterternary": [
           {
            "marker": {
             "colorbar": {
              "outlinewidth": 0,
              "ticks": ""
             }
            },
            "type": "scatterternary"
           }
          ],
          "surface": [
           {
            "colorbar": {
             "outlinewidth": 0,
             "ticks": ""
            },
            "colorscale": [
             [
              0,
              "#0d0887"
             ],
             [
              0.1111111111111111,
              "#46039f"
             ],
             [
              0.2222222222222222,
              "#7201a8"
             ],
             [
              0.3333333333333333,
              "#9c179e"
             ],
             [
              0.4444444444444444,
              "#bd3786"
             ],
             [
              0.5555555555555556,
              "#d8576b"
             ],
             [
              0.6666666666666666,
              "#ed7953"
             ],
             [
              0.7777777777777778,
              "#fb9f3a"
             ],
             [
              0.8888888888888888,
              "#fdca26"
             ],
             [
              1,
              "#f0f921"
             ]
            ],
            "type": "surface"
           }
          ],
          "table": [
           {
            "cells": {
             "fill": {
              "color": "#EBF0F8"
             },
             "line": {
              "color": "white"
             }
            },
            "header": {
             "fill": {
              "color": "#C8D4E3"
             },
             "line": {
              "color": "white"
             }
            },
            "type": "table"
           }
          ]
         },
         "layout": {
          "annotationdefaults": {
           "arrowcolor": "#2a3f5f",
           "arrowhead": 0,
           "arrowwidth": 1
          },
          "colorscale": {
           "diverging": [
            [
             0,
             "#8e0152"
            ],
            [
             0.1,
             "#c51b7d"
            ],
            [
             0.2,
             "#de77ae"
            ],
            [
             0.3,
             "#f1b6da"
            ],
            [
             0.4,
             "#fde0ef"
            ],
            [
             0.5,
             "#f7f7f7"
            ],
            [
             0.6,
             "#e6f5d0"
            ],
            [
             0.7,
             "#b8e186"
            ],
            [
             0.8,
             "#7fbc41"
            ],
            [
             0.9,
             "#4d9221"
            ],
            [
             1,
             "#276419"
            ]
           ],
           "sequential": [
            [
             0,
             "#0d0887"
            ],
            [
             0.1111111111111111,
             "#46039f"
            ],
            [
             0.2222222222222222,
             "#7201a8"
            ],
            [
             0.3333333333333333,
             "#9c179e"
            ],
            [
             0.4444444444444444,
             "#bd3786"
            ],
            [
             0.5555555555555556,
             "#d8576b"
            ],
            [
             0.6666666666666666,
             "#ed7953"
            ],
            [
             0.7777777777777778,
             "#fb9f3a"
            ],
            [
             0.8888888888888888,
             "#fdca26"
            ],
            [
             1,
             "#f0f921"
            ]
           ],
           "sequentialminus": [
            [
             0,
             "#0d0887"
            ],
            [
             0.1111111111111111,
             "#46039f"
            ],
            [
             0.2222222222222222,
             "#7201a8"
            ],
            [
             0.3333333333333333,
             "#9c179e"
            ],
            [
             0.4444444444444444,
             "#bd3786"
            ],
            [
             0.5555555555555556,
             "#d8576b"
            ],
            [
             0.6666666666666666,
             "#ed7953"
            ],
            [
             0.7777777777777778,
             "#fb9f3a"
            ],
            [
             0.8888888888888888,
             "#fdca26"
            ],
            [
             1,
             "#f0f921"
            ]
           ]
          },
          "colorway": [
           "#636efa",
           "#EF553B",
           "#00cc96",
           "#ab63fa",
           "#FFA15A",
           "#19d3f3",
           "#FF6692",
           "#B6E880",
           "#FF97FF",
           "#FECB52"
          ],
          "font": {
           "color": "#2a3f5f"
          },
          "geo": {
           "bgcolor": "white",
           "lakecolor": "white",
           "landcolor": "#E5ECF6",
           "showlakes": true,
           "showland": true,
           "subunitcolor": "white"
          },
          "hoverlabel": {
           "align": "left"
          },
          "hovermode": "closest",
          "mapbox": {
           "style": "light"
          },
          "paper_bgcolor": "white",
          "plot_bgcolor": "#E5ECF6",
          "polar": {
           "angularaxis": {
            "gridcolor": "white",
            "linecolor": "white",
            "ticks": ""
           },
           "bgcolor": "#E5ECF6",
           "radialaxis": {
            "gridcolor": "white",
            "linecolor": "white",
            "ticks": ""
           }
          },
          "scene": {
           "xaxis": {
            "backgroundcolor": "#E5ECF6",
            "gridcolor": "white",
            "gridwidth": 2,
            "linecolor": "white",
            "showbackground": true,
            "ticks": "",
            "zerolinecolor": "white"
           },
           "yaxis": {
            "backgroundcolor": "#E5ECF6",
            "gridcolor": "white",
            "gridwidth": 2,
            "linecolor": "white",
            "showbackground": true,
            "ticks": "",
            "zerolinecolor": "white"
           },
           "zaxis": {
            "backgroundcolor": "#E5ECF6",
            "gridcolor": "white",
            "gridwidth": 2,
            "linecolor": "white",
            "showbackground": true,
            "ticks": "",
            "zerolinecolor": "white"
           }
          },
          "shapedefaults": {
           "line": {
            "color": "#2a3f5f"
           }
          },
          "ternary": {
           "aaxis": {
            "gridcolor": "white",
            "linecolor": "white",
            "ticks": ""
           },
           "baxis": {
            "gridcolor": "white",
            "linecolor": "white",
            "ticks": ""
           },
           "bgcolor": "#E5ECF6",
           "caxis": {
            "gridcolor": "white",
            "linecolor": "white",
            "ticks": ""
           }
          },
          "title": {
           "x": 0.05
          },
          "xaxis": {
           "automargin": true,
           "gridcolor": "white",
           "linecolor": "white",
           "ticks": "",
           "zerolinecolor": "white",
           "zerolinewidth": 2
          },
          "yaxis": {
           "automargin": true,
           "gridcolor": "white",
           "linecolor": "white",
           "ticks": "",
           "zerolinecolor": "white",
           "zerolinewidth": 2
          }
         }
        },
        "title": {
         "text": "Predicted Values for MEDV from XGBoost Model"
        }
       }
      },
      "text/html": [
       "<div>\n",
       "        \n",
       "        \n",
       "            <div id=\"20dafa96-5910-487b-bc9d-f8d51841a469\" class=\"plotly-graph-div\" style=\"height:600px; width:100%;\"></div>\n",
       "            <script type=\"text/javascript\">\n",
       "                require([\"plotly\"], function(Plotly) {\n",
       "                    window.PLOTLYENV=window.PLOTLYENV || {};\n",
       "                    \n",
       "                if (document.getElementById(\"20dafa96-5910-487b-bc9d-f8d51841a469\")) {\n",
       "                    Plotly.newPlot(\n",
       "                        '20dafa96-5910-487b-bc9d-f8d51841a469',\n",
       "                        [{\"hoverlabel\": {\"namelength\": 0}, \"hovertemplate\": \"RM=%{x}<br>LSTAT=%{y}<br>MEDV_pred=%{z}<br>Residual=%{marker.color}\", \"legendgroup\": \"\", \"marker\": {\"color\": [2.4679199218750014, 2.336517333984375, -1.9064105987548814, -6.510473251342773, -4.4474227905273445, 1.2008216857910163, -1.0872070312499993, 3.300821685791014, -1.1279346466064446, -1.439472961425782, -0.4819572448730476, -1.4938205718994144, -2.557413101196289, 0.9954990386962876, 3.2045135498046875, -1.7091926574707017, -1.8265724182128906, -4.547422790527342, -0.6565334320068352, 4.9560699462890625, 2.843466567993161, -6.092124557495117, 2.4954990386962876, -3.5580661773681648, -2.6744155883789062, -2.8167188644409187, -1.9699840545654297, 0.20893211364746023, 2.1954990386962905, -3.5474227905273423, 0.49549903869628764, 3.799011993408204, 5.529487609863281, 0.11804275512695384, 11.785399627685546, -5.739381408691408, -6.675971984863281, -8.321473693847656, 6.0720201492309585, -0.6873054504394531, 2.3990119934082017, -2.8944393157959, 2.406179428100586, -2.3759719848632805, 3.318042755126953, 3.5005813598632827, 0.9605270385742202, 2.0518630981445316, 2.625770187377931, -3.093820571899414, -0.7873054504394545, -1.0866748809814446, -2.006410598754883, -0.2699840545654304, -1.3481369018554688, 6.3518630981445305, -6.70805206298828, -4.506681060791017, -4.8744155883789055, 0.18952674865722585, -2.193197250366211, 12.309386253356934, 1.4954990386962876, 0.5679199218750028, -0.44087066650390483, 5.593589401245119, 0.8061794281005845, -1.1183609008789048, 3.6419338226318345, -0.7873054504394545, -2.2912536621093746, 8.42620677947998, -2.8455154418945305, -1.373606491088868, -3.297294998168944, -4.57379322052002, 1.0180427551269524, -5.831986236572263, -7.716751289367676, 0.09358940124511861, -1.128119659423831, 10.50479507446289, 1.3255844116210938, -6.439472961425782, -2.727480888366699, 0.2518630981445309, 1.7129459381103516, -1.5474227905273423, -3.7737932205200195, -3.4474227905273445, 2.35135726928711, 1.9525772094726577, -0.9064105987548814, -1.3994186401367195, 11.872519111633302, -1.1394729614257812, 2.447917938232422, 4.7045135498046875, -6.073793220520019, 24.606325149536133, 0.7262067794799805, -2.2737932205200195, -3.0737932205200202, -1.5819572448730455, 9.141403961181638, -3.0474227905273423, 1.0180427551269524, -4.674415588378906, -6.090472602844239, 6.248297119140624, -0.6819572448730469, 5.202705001831056, -0.1376701354980483, -0.548136901855468, 2.9008216857910156, -0.44742279052734446, 5.80058135986328, -2.986501693725586, 28.312694549560547, -4.848136901855469, -1.7931972503662106, -4.3394729614257805, 1.152577209472657, -0.5819572448730455, -0.910473251342772, 0.051863098144531605, -5.347422790527343, 0.7785263061523438, 0.4479179382324219, -0.4517028808593757, -6.710805130004882, -2.4474227905273445, -3.169984054565429, -2.5279346466064467, 1.9008216857910156, 4.927589416503906, 6.506179428100587, 3.1482971191406257, 0.38952674865722514, 0.3008216857910142, -3.3742298126220707, -6.348136901855469, -2.1742298126220696, -0.9585960388183601, 0.6027050018310547, -0.5517028808593736, 27.493589401245117, 1.976128005981444, 2.2061794281005866, 2.3573287963867173, -4.228790664672852, 1.2949562072753906], \"coloraxis\": \"coloraxis\", \"symbol\": \"circle\"}, \"mode\": \"markers\", \"name\": \"\", \"scene\": \"scene\", \"showlegend\": false, \"type\": \"scatter3d\", \"x\": [1.3658412405731906, 0.36057831169864596, -0.2409086485143769, -0.3077405329824907, -0.8187259829782769, 0.15172867273579127, 0.5875282527049491, 0.04591152232794383, 0.25197649943796196, 0.16425965107356183, -0.11699119606308338, -0.8075873355669246, 0.5304426847217694, -0.5639294234435935, 2.1720008469698118, 0.3981712467119601, 0.0723658099299057, -1.8379122211170116, 1.1333219758612116, 2.898797590560549, 1.2669857447974393, 0.9397879770889654, -0.5862067182662981, -0.39963437412614683, -0.6613925882929265, -0.44140430191871827, 0.4761417785914262, 0.265899808702152, -0.8075873355669246, -0.8173336520518574, -0.6558232645872497, -0.43444264728662324, 3.386113414807211, 0.18514461496984816, 1.0038351997042414, 0.9815579048815368, -0.7463247748044876, -0.12673751254801616, -0.4038113669054041, -0.6168379986475173, -0.39128038856763353, 0.41766387968182694, -0.4748202441527752, -0.5917760419719736, -0.05990562807990238, 0.3564013189193899, -0.24926263407289145, -0.9690977230315323, -0.5110208482396699, -0.49709753897547976, -0.5806373945606214, -0.21723902276525406, -0.24787030314647193, 0.5917052454842064, -1.37705068447231, -1.2573102248002739, 0.9244723368983558, 1.0177585089684316, -0.5527907760322412, -0.08496758475544475, 0.07654280270916296, 0.7782775896243577, -0.8131566592726014, 1.3198943200013618, -0.3564721154071572, 0.11413573772247712, -0.48874355341696524, 0.6056285547483965, -0.4274809926545282, -0.5681064162228509, 0.3508319952137131, -0.17964608775193988, -2.6802724316005277, -0.21027736813315778, 0.6641064536579957, -0.19635405886896773, -0.11420653421024438, 2.472744327076325, -0.6140533367946782, 0.17261363663207638, 2.1260539263979847, 2.790195778299865, -0.6683542429250215, -0.11838352698950164, 0.15590566551504853, -1.0066906580448465, -0.23812398666153914, -0.5750680708549458, 0.12109739235457215, -0.5500061141794035, 0.3661476354043227, -0.5597524306643363, 0.17818296033775313, 0.2269145427624196, -0.1685074403405876, -0.22837767017660635, -0.5889913801191359, 2.2778179973776593, 0.06958114807706793, -1.8420892138962688, -0.1657227784877486, -0.13926849088578797, -0.09749856309321654, -0.23812398666153914, 0.904979703928489, -0.974667046737209, 0.1252743851338294, -0.7602480840686776, -1.6708325099467272, -0.9593514065465995, 0.026418889358078235, 0.7225843525675962, 1.3310329674127142, -0.9273277952389621, -0.28824790001262385, -1.1654163836566165, 0.35222432614013266, -0.4553276111829083, -0.5820297254870409, -1.0609915641751897, 0.06679648622423016, -0.13926849088578797, -0.7393631201723926, 0.11552806864889661, -0.17546909497268262, -1.2392099227568265, -1.7836113149866695, -0.2952095546447189, -0.7059471779383356, -0.4595046039621656, 0.4761417785914262, -0.7880947025970577, 0.43576418172527426, 0.28121544889276157, 0.11135107586963935, 2.202632127351031, -0.8674575654029434, -0.5639294234435935, -0.08914457753470201, -0.18103841867835815, -0.8242953066839537, -1.223894282566217, -0.9134044859747721, 0.8089088700055757, 0.6209441949390061, -0.4567199421093278, -0.10724487957814934, 0.3410856787287803, -0.5764604017813654, 0.7894162370357101, -0.05851329715348288, 1.8823960142746523], \"y\": [-0.813499298010096, -1.2018688672946005, -0.47944715100314467, 0.05829532954463052, -0.15082674622394865, -0.1752695862488475, -0.3327901108537514, -0.22279733074170638, -0.04626570833965907, 0.3271665698185182, -0.742886649049277, 0.610975101218733, -0.08564583949088492, 0.2972919875658642, -1.1950791895099062, -0.9669460159441834, -1.0375586649050024, 0.00397790726707765, -0.5432701221792696, -1.2616180317999088, -0.41019243759926455, 0.6245544567881214, 0.3746943143113771, 0.4195061876903584, 1.2899428796881462, 0.8689828570371103, -0.899049238097242, 0.8241709836581288, 0.2918602453381088, -0.024538739428637824, 0.328524505375457, -0.1304577128698662, -1.0837284738409225, -0.7347390357076441, 0.2959340520089252, -1.3132195829635842, -0.3395797886384456, 0.2592697919715769, 1.1826659706899791, -0.5215431532682484, -0.024538739428637824, -0.39932895314375394, 0.6164068434464882, -0.358590886435589, -0.9655880803872446, -0.7089382601258064, 0.32173482759076305, 1.2003191329301837, 0.7494845280264932, 0.5878901967507731, -0.45636224653518465, 0.11261275182218362, -0.4319194065102858, -0.8216469113517291, 1.6701648356310177, 1.1582231306650803, -1.2331013851041934, -1.4435813964297115, 1.599552186670199, -0.036760159441087244, 0.682945685736491, 0.9735438949213999, 0.4317276077028078, -0.9669460159441834, -0.6247462555955992, -0.4387090842949798, 0.5824584545230175, -1.1013816360811273, 0.29864992312280303, -0.5188272821543708, 1.150075517323447, 1.2016770684871227, 2.4469039742000263, 0.829602725885884, -1.0552118271452071, 1.879286911399597, -0.7021485823411122, -1.1407617672323533, 2.357280227442064, -0.516111411040493, -1.227669642876438, -0.7021485823411122, 0.9871232504907879, 0.3475356031726007, 0.917868537086908, 1.1419279039818142, 0.2022364985801462, -0.07885616170619093, 1.557456184405095, 0.008051713937894042, -1.0932340227394943, -0.23637668631109485, -0.47129953766151167, -0.7985620068837689, 0.8879939548342535, 0.34074592538790643, 0.23890075861749446, -1.2100164806362332, 1.0468724149960964, -1.2697656451415418, 1.5683196688606058, 1.2098246818287555, 1.2451310063091652, -0.9004071736541809, -1.0891602160686777, -0.015033190530066, -0.9289238203498963, 0.9925549927185435, 2.3179000962908383, 0.1859412718968804, -0.8773222691862208, -1.0538538915882685, -1.0592856338160237, 1.3945039175724359, -0.2350187507541558, -0.12502597064211102, -0.9886729848552046, 0.2484063075160663, -0.5066058621419212, 2.005574918194908, 0.7033147190905732, 0.3475356031726007, -0.29748378637334194, -0.7795509090866254, -0.03811809499802604, 1.9295305270063337, -0.06663474169374152, 0.28371263199647573, 0.20902617636484044, 0.11397068737912243, -1.0959498938533718, -0.18070132847660292, -0.711654131239684, 0.025704876178098895, -0.28662030191783133, -1.3091457762927676, 0.6775139435087357, 0.12211830072075545, 0.06780087844320234, -0.1725537151349699, 0.7793591102791477, 1.542518893278768, 0.7780011747222086, -1.0864443449548, -1.0755808604992896, 0.16557223854279796, -0.4183400509408976, -0.6627684511898863, 0.6747980723948577, -0.7727612313019312, 0.5199934189038319, -1.3037140340650124], \"z\": [32.132080078125, 29.163482666015625, 22.506410598754883, 21.010473251342773, 20.647422790527344, 21.099178314208984, 23.88720703125, 21.099178314208984, 20.927934646606445, 18.13947296142578, 23.681957244873047, 16.593820571899414, 23.55741310119629, 17.90450096130371, 45.29548645019531, 25.809192657470703, 24.32657241821289, 20.647422790527344, 30.956533432006836, 45.04393005371094, 30.956533432006836, 16.492124557495117, 17.90450096130371, 17.758066177368164, 13.174415588378906, 15.516718864440918, 26.46998405456543, 16.49106788635254, 17.90450096130371, 20.647422790527344, 17.90450096130371, 20.500988006591797, 44.47051239013672, 23.681957244873047, 18.914600372314453, 39.139381408691406, 21.67597198486328, 19.221473693847656, 13.027979850769043, 21.687305450439453, 20.500988006591797, 25.2944393157959, 16.593820571899414, 21.67597198486328, 23.681957244873047, 23.59941864013672, 18.13947296142578, 13.348136901855469, 16.47422981262207, 16.593820571899414, 21.687305450439453, 20.386674880981445, 22.506410598754883, 26.46998405456543, 13.348136901855469, 13.348136901855469, 36.30805206298828, 39.406681060791016, 13.174415588378906, 21.010473251342773, 16.69319725036621, 15.190613746643066, 17.90450096130371, 32.132080078125, 21.540870666503906, 22.506410598754883, 16.593820571899414, 31.218360900878906, 17.758066177368164, 21.687305450439453, 13.191253662109375, 13.27379322052002, 11.645515441894531, 16.573606491088867, 29.897294998168945, 13.27379322052002, 23.681957244873047, 44.531986236572266, 14.016751289367676, 22.506410598754883, 44.92811965942383, 39.49520492553711, 13.174415588378906, 18.13947296142578, 15.2274808883667, 13.348136901855469, 19.78705406188965, 20.647422790527344, 13.27379322052002, 20.647422790527344, 27.44864273071289, 20.647422790527344, 22.506410598754883, 23.59941864013672, 15.2274808883667, 18.13947296142578, 19.552082061767578, 45.29548645019531, 13.27379322052002, 25.393674850463867, 13.27379322052002, 13.27379322052002, 13.27379322052002, 23.681957244873047, 32.15859603881836, 20.647422790527344, 23.681957244873047, 13.174415588378906, 14.190472602844238, 20.151702880859375, 23.681957244873047, 29.897294998168945, 35.53767013549805, 13.348136901855469, 21.099178314208984, 20.647422790527344, 23.59941864013672, 18.986501693725586, 21.687305450439453, 13.348136901855469, 16.69319725036621, 18.13947296142578, 20.647422790527344, 23.681957244873047, 21.010473251342773, 13.348136901855469, 20.647422790527344, 19.221473693847656, 19.552082061767578, 20.151702880859375, 29.510805130004883, 20.647422790527344, 26.46998405456543, 20.927934646606445, 21.099178314208984, 45.072410583496094, 16.593820571899414, 20.151702880859375, 21.010473251342773, 21.099178314208984, 16.47422981262207, 13.348136901855469, 16.47422981262207, 32.15859603881836, 29.897294998168945, 20.151702880859375, 22.506410598754883, 22.423871994018555, 16.593820571899414, 27.54267120361328, 16.82879066467285, 44.70504379272461]}],\n",
       "                        {\"coloraxis\": {\"colorbar\": {\"title\": {\"text\": \"Residual\"}}, \"colorscale\": [[0.0, \"#0d0887\"], [0.1111111111111111, \"#46039f\"], [0.2222222222222222, \"#7201a8\"], [0.3333333333333333, \"#9c179e\"], [0.4444444444444444, \"#bd3786\"], [0.5555555555555556, \"#d8576b\"], [0.6666666666666666, \"#ed7953\"], [0.7777777777777778, \"#fb9f3a\"], [0.8888888888888888, \"#fdca26\"], [1.0, \"#f0f921\"]]}, \"height\": 600, \"legend\": {\"tracegroupgap\": 0}, \"scene\": {\"domain\": {\"x\": [0.0, 0.98], \"y\": [0.0, 1.0]}, \"xaxis\": {\"title\": {\"text\": \"RM\"}}, \"yaxis\": {\"title\": {\"text\": \"LSTAT\"}}, \"zaxis\": {\"range\": [5, 50], \"title\": {\"text\": \"MEDV_pred\"}}}, \"template\": {\"data\": {\"bar\": [{\"error_x\": {\"color\": \"#2a3f5f\"}, \"error_y\": {\"color\": \"#2a3f5f\"}, \"marker\": {\"line\": {\"color\": \"#E5ECF6\", \"width\": 0.5}}, \"type\": \"bar\"}], \"barpolar\": [{\"marker\": {\"line\": {\"color\": \"#E5ECF6\", \"width\": 0.5}}, \"type\": \"barpolar\"}], \"carpet\": [{\"aaxis\": {\"endlinecolor\": \"#2a3f5f\", \"gridcolor\": \"white\", \"linecolor\": \"white\", \"minorgridcolor\": \"white\", \"startlinecolor\": \"#2a3f5f\"}, \"baxis\": {\"endlinecolor\": \"#2a3f5f\", \"gridcolor\": \"white\", \"linecolor\": \"white\", \"minorgridcolor\": \"white\", \"startlinecolor\": \"#2a3f5f\"}, \"type\": \"carpet\"}], \"choropleth\": [{\"colorbar\": {\"outlinewidth\": 0, \"ticks\": \"\"}, \"type\": \"choropleth\"}], \"contour\": [{\"colorbar\": {\"outlinewidth\": 0, \"ticks\": \"\"}, \"colorscale\": [[0.0, \"#0d0887\"], [0.1111111111111111, \"#46039f\"], [0.2222222222222222, \"#7201a8\"], [0.3333333333333333, \"#9c179e\"], [0.4444444444444444, \"#bd3786\"], [0.5555555555555556, \"#d8576b\"], [0.6666666666666666, \"#ed7953\"], [0.7777777777777778, \"#fb9f3a\"], [0.8888888888888888, \"#fdca26\"], [1.0, \"#f0f921\"]], \"type\": \"contour\"}], \"contourcarpet\": [{\"colorbar\": {\"outlinewidth\": 0, \"ticks\": \"\"}, \"type\": \"contourcarpet\"}], \"heatmap\": [{\"colorbar\": {\"outlinewidth\": 0, \"ticks\": \"\"}, \"colorscale\": [[0.0, \"#0d0887\"], [0.1111111111111111, \"#46039f\"], [0.2222222222222222, \"#7201a8\"], [0.3333333333333333, \"#9c179e\"], [0.4444444444444444, \"#bd3786\"], [0.5555555555555556, \"#d8576b\"], [0.6666666666666666, \"#ed7953\"], [0.7777777777777778, \"#fb9f3a\"], [0.8888888888888888, \"#fdca26\"], [1.0, \"#f0f921\"]], \"type\": \"heatmap\"}], \"heatmapgl\": [{\"colorbar\": {\"outlinewidth\": 0, \"ticks\": \"\"}, \"colorscale\": [[0.0, \"#0d0887\"], [0.1111111111111111, \"#46039f\"], [0.2222222222222222, \"#7201a8\"], [0.3333333333333333, \"#9c179e\"], [0.4444444444444444, \"#bd3786\"], [0.5555555555555556, \"#d8576b\"], [0.6666666666666666, \"#ed7953\"], [0.7777777777777778, \"#fb9f3a\"], [0.8888888888888888, \"#fdca26\"], [1.0, \"#f0f921\"]], \"type\": \"heatmapgl\"}], \"histogram\": [{\"marker\": {\"colorbar\": {\"outlinewidth\": 0, \"ticks\": \"\"}}, \"type\": \"histogram\"}], \"histogram2d\": [{\"colorbar\": {\"outlinewidth\": 0, \"ticks\": \"\"}, \"colorscale\": [[0.0, \"#0d0887\"], [0.1111111111111111, \"#46039f\"], [0.2222222222222222, \"#7201a8\"], [0.3333333333333333, \"#9c179e\"], [0.4444444444444444, \"#bd3786\"], [0.5555555555555556, \"#d8576b\"], [0.6666666666666666, \"#ed7953\"], [0.7777777777777778, \"#fb9f3a\"], [0.8888888888888888, \"#fdca26\"], [1.0, \"#f0f921\"]], \"type\": \"histogram2d\"}], \"histogram2dcontour\": [{\"colorbar\": {\"outlinewidth\": 0, \"ticks\": \"\"}, \"colorscale\": [[0.0, \"#0d0887\"], [0.1111111111111111, \"#46039f\"], [0.2222222222222222, \"#7201a8\"], [0.3333333333333333, \"#9c179e\"], [0.4444444444444444, \"#bd3786\"], [0.5555555555555556, \"#d8576b\"], [0.6666666666666666, \"#ed7953\"], [0.7777777777777778, \"#fb9f3a\"], [0.8888888888888888, \"#fdca26\"], [1.0, \"#f0f921\"]], \"type\": \"histogram2dcontour\"}], \"mesh3d\": [{\"colorbar\": {\"outlinewidth\": 0, \"ticks\": \"\"}, \"type\": \"mesh3d\"}], \"parcoords\": [{\"line\": {\"colorbar\": {\"outlinewidth\": 0, \"ticks\": \"\"}}, \"type\": \"parcoords\"}], \"scatter\": [{\"marker\": {\"colorbar\": {\"outlinewidth\": 0, \"ticks\": \"\"}}, \"type\": \"scatter\"}], \"scatter3d\": [{\"line\": {\"colorbar\": {\"outlinewidth\": 0, \"ticks\": \"\"}}, \"marker\": {\"colorbar\": {\"outlinewidth\": 0, \"ticks\": \"\"}}, \"type\": \"scatter3d\"}], \"scattercarpet\": [{\"marker\": {\"colorbar\": {\"outlinewidth\": 0, \"ticks\": \"\"}}, \"type\": \"scattercarpet\"}], \"scattergeo\": [{\"marker\": {\"colorbar\": {\"outlinewidth\": 0, \"ticks\": \"\"}}, \"type\": \"scattergeo\"}], \"scattergl\": [{\"marker\": {\"colorbar\": {\"outlinewidth\": 0, \"ticks\": \"\"}}, \"type\": \"scattergl\"}], \"scattermapbox\": [{\"marker\": {\"colorbar\": {\"outlinewidth\": 0, \"ticks\": \"\"}}, \"type\": \"scattermapbox\"}], \"scatterpolar\": [{\"marker\": {\"colorbar\": {\"outlinewidth\": 0, \"ticks\": \"\"}}, \"type\": \"scatterpolar\"}], \"scatterpolargl\": [{\"marker\": {\"colorbar\": {\"outlinewidth\": 0, \"ticks\": \"\"}}, \"type\": \"scatterpolargl\"}], \"scatterternary\": [{\"marker\": {\"colorbar\": {\"outlinewidth\": 0, \"ticks\": \"\"}}, \"type\": \"scatterternary\"}], \"surface\": [{\"colorbar\": {\"outlinewidth\": 0, \"ticks\": \"\"}, \"colorscale\": [[0.0, \"#0d0887\"], [0.1111111111111111, \"#46039f\"], [0.2222222222222222, \"#7201a8\"], [0.3333333333333333, \"#9c179e\"], [0.4444444444444444, \"#bd3786\"], [0.5555555555555556, \"#d8576b\"], [0.6666666666666666, \"#ed7953\"], [0.7777777777777778, \"#fb9f3a\"], [0.8888888888888888, \"#fdca26\"], [1.0, \"#f0f921\"]], \"type\": \"surface\"}], \"table\": [{\"cells\": {\"fill\": {\"color\": \"#EBF0F8\"}, \"line\": {\"color\": \"white\"}}, \"header\": {\"fill\": {\"color\": \"#C8D4E3\"}, \"line\": {\"color\": \"white\"}}, \"type\": \"table\"}]}, \"layout\": {\"annotationdefaults\": {\"arrowcolor\": \"#2a3f5f\", \"arrowhead\": 0, \"arrowwidth\": 1}, \"colorscale\": {\"diverging\": [[0, \"#8e0152\"], [0.1, \"#c51b7d\"], [0.2, \"#de77ae\"], [0.3, \"#f1b6da\"], [0.4, \"#fde0ef\"], [0.5, \"#f7f7f7\"], [0.6, \"#e6f5d0\"], [0.7, \"#b8e186\"], [0.8, \"#7fbc41\"], [0.9, \"#4d9221\"], [1, \"#276419\"]], \"sequential\": [[0.0, \"#0d0887\"], [0.1111111111111111, \"#46039f\"], [0.2222222222222222, \"#7201a8\"], [0.3333333333333333, \"#9c179e\"], [0.4444444444444444, \"#bd3786\"], [0.5555555555555556, \"#d8576b\"], [0.6666666666666666, \"#ed7953\"], [0.7777777777777778, \"#fb9f3a\"], [0.8888888888888888, \"#fdca26\"], [1.0, \"#f0f921\"]], \"sequentialminus\": [[0.0, \"#0d0887\"], [0.1111111111111111, \"#46039f\"], [0.2222222222222222, \"#7201a8\"], [0.3333333333333333, \"#9c179e\"], [0.4444444444444444, \"#bd3786\"], [0.5555555555555556, \"#d8576b\"], [0.6666666666666666, \"#ed7953\"], [0.7777777777777778, \"#fb9f3a\"], [0.8888888888888888, \"#fdca26\"], [1.0, \"#f0f921\"]]}, \"colorway\": [\"#636efa\", \"#EF553B\", \"#00cc96\", \"#ab63fa\", \"#FFA15A\", \"#19d3f3\", \"#FF6692\", \"#B6E880\", \"#FF97FF\", \"#FECB52\"], \"font\": {\"color\": \"#2a3f5f\"}, \"geo\": {\"bgcolor\": \"white\", \"lakecolor\": \"white\", \"landcolor\": \"#E5ECF6\", \"showlakes\": true, \"showland\": true, \"subunitcolor\": \"white\"}, \"hoverlabel\": {\"align\": \"left\"}, \"hovermode\": \"closest\", \"mapbox\": {\"style\": \"light\"}, \"paper_bgcolor\": \"white\", \"plot_bgcolor\": \"#E5ECF6\", \"polar\": {\"angularaxis\": {\"gridcolor\": \"white\", \"linecolor\": \"white\", \"ticks\": \"\"}, \"bgcolor\": \"#E5ECF6\", \"radialaxis\": {\"gridcolor\": \"white\", \"linecolor\": \"white\", \"ticks\": \"\"}}, \"scene\": {\"xaxis\": {\"backgroundcolor\": \"#E5ECF6\", \"gridcolor\": \"white\", \"gridwidth\": 2, \"linecolor\": \"white\", \"showbackground\": true, \"ticks\": \"\", \"zerolinecolor\": \"white\"}, \"yaxis\": {\"backgroundcolor\": \"#E5ECF6\", \"gridcolor\": \"white\", \"gridwidth\": 2, \"linecolor\": \"white\", \"showbackground\": true, \"ticks\": \"\", \"zerolinecolor\": \"white\"}, \"zaxis\": {\"backgroundcolor\": \"#E5ECF6\", \"gridcolor\": \"white\", \"gridwidth\": 2, \"linecolor\": \"white\", \"showbackground\": true, \"ticks\": \"\", \"zerolinecolor\": \"white\"}}, \"shapedefaults\": {\"line\": {\"color\": \"#2a3f5f\"}}, \"ternary\": {\"aaxis\": {\"gridcolor\": \"white\", \"linecolor\": \"white\", \"ticks\": \"\"}, \"baxis\": {\"gridcolor\": \"white\", \"linecolor\": \"white\", \"ticks\": \"\"}, \"bgcolor\": \"#E5ECF6\", \"caxis\": {\"gridcolor\": \"white\", \"linecolor\": \"white\", \"ticks\": \"\"}}, \"title\": {\"x\": 0.05}, \"xaxis\": {\"automargin\": true, \"gridcolor\": \"white\", \"linecolor\": \"white\", \"ticks\": \"\", \"zerolinecolor\": \"white\", \"zerolinewidth\": 2}, \"yaxis\": {\"automargin\": true, \"gridcolor\": \"white\", \"linecolor\": \"white\", \"ticks\": \"\", \"zerolinecolor\": \"white\", \"zerolinewidth\": 2}}}, \"title\": {\"text\": \"Predicted Values for MEDV from XGBoost Model\"}},\n",
       "                        {\"responsive\": true}\n",
       "                    ).then(function(){\n",
       "                            \n",
       "var gd = document.getElementById('20dafa96-5910-487b-bc9d-f8d51841a469');\n",
       "var x = new MutationObserver(function (mutations, observer) {{\n",
       "        var display = window.getComputedStyle(gd).display;\n",
       "        if (!display || display === 'none') {{\n",
       "            console.log([gd, 'removed!']);\n",
       "            Plotly.purge(gd);\n",
       "            observer.disconnect();\n",
       "        }}\n",
       "}});\n",
       "\n",
       "// Listen for the removal of the full notebook cells\n",
       "var notebookContainer = gd.closest('#notebook-container');\n",
       "if (notebookContainer) {{\n",
       "    x.observe(notebookContainer, {childList: true});\n",
       "}}\n",
       "\n",
       "// Listen for the clearing of the current output cell\n",
       "var outputEl = gd.closest('.output');\n",
       "if (outputEl) {{\n",
       "    x.observe(outputEl, {childList: true});\n",
       "}}\n",
       "\n",
       "                        })\n",
       "                };\n",
       "                });\n",
       "            </script>\n",
       "        </div>"
      ]
     },
     "metadata": {},
     "output_type": "display_data"
    },
    {
     "data": {
      "text/plain": [
       "<Figure size 432x288 with 0 Axes>"
      ]
     },
     "metadata": {},
     "output_type": "display_data"
    }
   ],
   "source": [
    "# DataFrame of test data, XGBoost predictions, and true values\n",
    "XGB_test = X_test.copy()\n",
    "XGB_test['MEDV_pred'] = predictions_XGB.tolist()\n",
    "XGB_test['MEDV_true'] = y_test.tolist()\n",
    "XGB_test['Residual'] =  XGB_test['MEDV_true'] - XGB_test['MEDV_pred']\n",
    "print(XGB_test.head())\n",
    "\n",
    "# Visualizing the XGBoost Predictions\n",
    "plt.figure()\n",
    "fig = px.scatter_3d(XGB_test, x = 'RM', y = 'LSTAT', z = 'MEDV_pred', \n",
    "                    title = 'Predicted Values for MEDV from XGBoost Model',\n",
    "                    color = 'Residual',\n",
    "                    range_z = [5, 50])\n",
    "fig.show()"
   ]
  },
  {
   "cell_type": "code",
   "execution_count": 183,
   "metadata": {},
   "outputs": [
    {
     "name": "stdout",
     "output_type": "stream",
     "text": [
      "     RM  LSTAT  MEDV_pred  MEDV_true  Residual\n",
      "0  1.37  -0.81      30.89       34.6      3.71\n",
      "1  0.36  -1.20      29.05       31.5      2.45\n",
      "2 -0.24  -0.48      23.83       20.6     -3.23\n",
      "3 -0.31   0.06      21.27       14.5     -6.77\n",
      "4 -0.82  -0.15      20.39       16.2     -4.19\n"
     ]
    },
    {
     "data": {
      "application/vnd.plotly.v1+json": {
       "config": {
        "plotlyServerURL": "https://plot.ly"
       },
       "data": [
        {
         "hoverlabel": {
          "namelength": 0
         },
         "hovertemplate": "RM=%{x}<br>LSTAT=%{y}<br>MEDV_pred=%{z}<br>Residual=%{marker.color}",
         "legendgroup": "",
         "marker": {
          "color": [
           3.7082441795579157,
           2.4506703410943516,
           -3.227662192183402,
           -6.773804647146434,
           -4.18780018839897,
           -1.5894050371924777,
           -3.2940950179401725,
           0.6758586163411664,
           -3.883667030142849,
           -5.06560320902652,
           -2.197871122201331,
           -2.040147391922469,
           -3.8280696987816363,
           -0.4461591090524095,
           13.140805223744408,
           -4.067362914835876,
           -4.831834920559434,
           -0.05323840784081213,
           1.3878028521036647,
           11.81027831407426,
           4.994175786555882,
           -12.796583633688817,
           1.4657372990241875,
           -5.193849977586378,
           -4.222499801456156,
           -4.60850210177205,
           -3.64729813847557,
           -3.277077218230037,
           1.5830990285678155,
           -2.747829809557345,
           -0.48982622596409797,
           2.655260222260889,
           10.872360720875065,
           -2.620058345945342,
           5.861516859477359,
           1.6971241366983527,
           -6.455506693148656,
           -10.140171340309747,
           3.0132591427724584,
           -1.6936941793193654,
           1.5611769002884905,
           -3.3867144803577602,
           0.7187527365688524,
           -2.7783765625450023,
           0.44155702430470356,
           0.19193281327261502,
           -1.2418967661814335,
           1.367665978440634,
           1.519573976245944,
           -4.826315873234368,
           -1.6391706419393586,
           -2.0561778733167273,
           -3.098251151264474,
           -2.017781912507676,
           1.4223663675066334,
           6.4946647845082275,
           -1.5574492261843602,
           2.5080199487617776,
           -5.46681301621477,
           -1.263505792785356,
           -5.423700224223499,
           6.374270657639311,
           1.5060173015720153,
           1.3070241502554367,
           -2.950104711664004,
           3.2055991754624173,
           -0.9789851392674294,
           0.626636487299912,
           1.5821917618011518,
           -1.952515575799108,
           -7.96825516198148,
           4.910801643142879,
           6.134128523410617,
           -3.087238849282599,
           -2.8788197709757455,
           -5.10732362249624,
           -0.5318604002777221,
           2.52268040668104,
           -3.9833643885646675,
           -2.8329829370063635,
           8.460993996894537,
           14.604048085795498,
           -1.5045884350627858,
           -8.988602321295275,
           -6.687909292913943,
           -0.5526924024961009,
           0.6035727405001481,
           -1.829990558376739,
           -6.80673043072408,
           -3.4427503903366024,
           1.1998623023466521,
           0.9368226426617063,
           -3.6591416916560107,
           -4.641584874607499,
           8.918501950378122,
           -3.3329653103779826,
           2.489629766182791,
           14.206049380179074,
           -11.12925265553536,
           28.366081907136852,
           -1.256121642808587,
           -5.895350487303805,
           -6.689204627437409,
           -3.553550266146189,
           10.831769895350671,
           -1.6562245670687616,
           -2.3483088804353756,
           -7.159567543509304,
           1.3449864240313403,
           7.957239463716764,
           -3.479735473833216,
           5.422392617030205,
           3.569664174342094,
           -0.5407406348732362,
           1.3925383855905764,
           1.1367710490456204,
           1.2996940652762845,
           -3.9371231535581117,
           27.24893642795325,
           -1.7366413924262059,
           -4.9017146465256385,
           -6.815514414915164,
           0.5017449733691883,
           -3.2697633450633745,
           -2.052650057675148,
           3.4589646266164706,
           -1.3479103096823017,
           -0.3451420965123191,
           0.7700344727658006,
           -0.8024996334372467,
           -6.196784389662415,
           -2.4238833535687156,
           -3.8975182827122943,
           -5.075488227951531,
           -1.228500872885114,
           14.041493454618909,
           6.45643904067629,
           3.198091053684813,
           -0.5977817194997712,
           -1.3131540104622808,
           -3.2552198589068713,
           -4.66431304441803,
           -1.7492366508886725,
           1.0796913164396713,
           1.0843506808226593,
           -0.6896207045516007,
           25.96820887114535,
           -2.255279509126673,
           1.1263638267062994,
           1.201226171756467,
           -7.554088200729305,
           11.18560878926155
          ],
          "coloraxis": "coloraxis",
          "symbol": "circle"
         },
         "mode": "markers",
         "name": "",
         "scene": "scene",
         "showlegend": false,
         "type": "scatter3d",
         "x": [
          1.3658412405731906,
          0.36057831169864596,
          -0.2409086485143769,
          -0.3077405329824907,
          -0.8187259829782769,
          0.15172867273579127,
          0.5875282527049491,
          0.04591152232794383,
          0.25197649943796196,
          0.16425965107356183,
          -0.11699119606308338,
          -0.8075873355669246,
          0.5304426847217694,
          -0.5639294234435935,
          2.1720008469698118,
          0.3981712467119601,
          0.0723658099299057,
          -1.8379122211170116,
          1.1333219758612116,
          2.898797590560549,
          1.2669857447974393,
          0.9397879770889654,
          -0.5862067182662981,
          -0.39963437412614683,
          -0.6613925882929265,
          -0.44140430191871827,
          0.4761417785914262,
          0.265899808702152,
          -0.8075873355669246,
          -0.8173336520518574,
          -0.6558232645872497,
          -0.43444264728662324,
          3.386113414807211,
          0.18514461496984816,
          1.0038351997042414,
          0.9815579048815368,
          -0.7463247748044876,
          -0.12673751254801616,
          -0.4038113669054041,
          -0.6168379986475173,
          -0.39128038856763353,
          0.41766387968182694,
          -0.4748202441527752,
          -0.5917760419719736,
          -0.05990562807990238,
          0.3564013189193899,
          -0.24926263407289145,
          -0.9690977230315323,
          -0.5110208482396699,
          -0.49709753897547976,
          -0.5806373945606214,
          -0.21723902276525406,
          -0.24787030314647193,
          0.5917052454842064,
          -1.37705068447231,
          -1.2573102248002739,
          0.9244723368983558,
          1.0177585089684316,
          -0.5527907760322412,
          -0.08496758475544475,
          0.07654280270916296,
          0.7782775896243577,
          -0.8131566592726014,
          1.3198943200013618,
          -0.3564721154071572,
          0.11413573772247712,
          -0.48874355341696524,
          0.6056285547483965,
          -0.4274809926545282,
          -0.5681064162228509,
          0.3508319952137131,
          -0.17964608775193988,
          -2.6802724316005277,
          -0.21027736813315778,
          0.6641064536579957,
          -0.19635405886896773,
          -0.11420653421024438,
          2.472744327076325,
          -0.6140533367946782,
          0.17261363663207638,
          2.1260539263979847,
          2.790195778299865,
          -0.6683542429250215,
          -0.11838352698950164,
          0.15590566551504853,
          -1.0066906580448465,
          -0.23812398666153914,
          -0.5750680708549458,
          0.12109739235457215,
          -0.5500061141794035,
          0.3661476354043227,
          -0.5597524306643363,
          0.17818296033775313,
          0.2269145427624196,
          -0.1685074403405876,
          -0.22837767017660635,
          -0.5889913801191359,
          2.2778179973776593,
          0.06958114807706793,
          -1.8420892138962688,
          -0.1657227784877486,
          -0.13926849088578797,
          -0.09749856309321654,
          -0.23812398666153914,
          0.904979703928489,
          -0.974667046737209,
          0.1252743851338294,
          -0.7602480840686776,
          -1.6708325099467272,
          -0.9593514065465995,
          0.026418889358078235,
          0.7225843525675962,
          1.3310329674127142,
          -0.9273277952389621,
          -0.28824790001262385,
          -1.1654163836566165,
          0.35222432614013266,
          -0.4553276111829083,
          -0.5820297254870409,
          -1.0609915641751897,
          0.06679648622423016,
          -0.13926849088578797,
          -0.7393631201723926,
          0.11552806864889661,
          -0.17546909497268262,
          -1.2392099227568265,
          -1.7836113149866695,
          -0.2952095546447189,
          -0.7059471779383356,
          -0.4595046039621656,
          0.4761417785914262,
          -0.7880947025970577,
          0.43576418172527426,
          0.28121544889276157,
          0.11135107586963935,
          2.202632127351031,
          -0.8674575654029434,
          -0.5639294234435935,
          -0.08914457753470201,
          -0.18103841867835815,
          -0.8242953066839537,
          -1.223894282566217,
          -0.9134044859747721,
          0.8089088700055757,
          0.6209441949390061,
          -0.4567199421093278,
          -0.10724487957814934,
          0.3410856787287803,
          -0.5764604017813654,
          0.7894162370357101,
          -0.05851329715348288,
          1.8823960142746523
         ],
         "y": [
          -0.813499298010096,
          -1.2018688672946005,
          -0.47944715100314467,
          0.05829532954463052,
          -0.15082674622394865,
          -0.1752695862488475,
          -0.3327901108537514,
          -0.22279733074170638,
          -0.04626570833965907,
          0.3271665698185182,
          -0.742886649049277,
          0.610975101218733,
          -0.08564583949088492,
          0.2972919875658642,
          -1.1950791895099062,
          -0.9669460159441834,
          -1.0375586649050024,
          0.00397790726707765,
          -0.5432701221792696,
          -1.2616180317999088,
          -0.41019243759926455,
          0.6245544567881214,
          0.3746943143113771,
          0.4195061876903584,
          1.2899428796881462,
          0.8689828570371103,
          -0.899049238097242,
          0.8241709836581288,
          0.2918602453381088,
          -0.024538739428637824,
          0.328524505375457,
          -0.1304577128698662,
          -1.0837284738409225,
          -0.7347390357076441,
          0.2959340520089252,
          -1.3132195829635842,
          -0.3395797886384456,
          0.2592697919715769,
          1.1826659706899791,
          -0.5215431532682484,
          -0.024538739428637824,
          -0.39932895314375394,
          0.6164068434464882,
          -0.358590886435589,
          -0.9655880803872446,
          -0.7089382601258064,
          0.32173482759076305,
          1.2003191329301837,
          0.7494845280264932,
          0.5878901967507731,
          -0.45636224653518465,
          0.11261275182218362,
          -0.4319194065102858,
          -0.8216469113517291,
          1.6701648356310177,
          1.1582231306650803,
          -1.2331013851041934,
          -1.4435813964297115,
          1.599552186670199,
          -0.036760159441087244,
          0.682945685736491,
          0.9735438949213999,
          0.4317276077028078,
          -0.9669460159441834,
          -0.6247462555955992,
          -0.4387090842949798,
          0.5824584545230175,
          -1.1013816360811273,
          0.29864992312280303,
          -0.5188272821543708,
          1.150075517323447,
          1.2016770684871227,
          2.4469039742000263,
          0.829602725885884,
          -1.0552118271452071,
          1.879286911399597,
          -0.7021485823411122,
          -1.1407617672323533,
          2.357280227442064,
          -0.516111411040493,
          -1.227669642876438,
          -0.7021485823411122,
          0.9871232504907879,
          0.3475356031726007,
          0.917868537086908,
          1.1419279039818142,
          0.2022364985801462,
          -0.07885616170619093,
          1.557456184405095,
          0.008051713937894042,
          -1.0932340227394943,
          -0.23637668631109485,
          -0.47129953766151167,
          -0.7985620068837689,
          0.8879939548342535,
          0.34074592538790643,
          0.23890075861749446,
          -1.2100164806362332,
          1.0468724149960964,
          -1.2697656451415418,
          1.5683196688606058,
          1.2098246818287555,
          1.2451310063091652,
          -0.9004071736541809,
          -1.0891602160686777,
          -0.015033190530066,
          -0.9289238203498963,
          0.9925549927185435,
          2.3179000962908383,
          0.1859412718968804,
          -0.8773222691862208,
          -1.0538538915882685,
          -1.0592856338160237,
          1.3945039175724359,
          -0.2350187507541558,
          -0.12502597064211102,
          -0.9886729848552046,
          0.2484063075160663,
          -0.5066058621419212,
          2.005574918194908,
          0.7033147190905732,
          0.3475356031726007,
          -0.29748378637334194,
          -0.7795509090866254,
          -0.03811809499802604,
          1.9295305270063337,
          -0.06663474169374152,
          0.28371263199647573,
          0.20902617636484044,
          0.11397068737912243,
          -1.0959498938533718,
          -0.18070132847660292,
          -0.711654131239684,
          0.025704876178098895,
          -0.28662030191783133,
          -1.3091457762927676,
          0.6775139435087357,
          0.12211830072075545,
          0.06780087844320234,
          -0.1725537151349699,
          0.7793591102791477,
          1.542518893278768,
          0.7780011747222086,
          -1.0864443449548,
          -1.0755808604992896,
          0.16557223854279796,
          -0.4183400509408976,
          -0.6627684511898863,
          0.6747980723948577,
          -0.7727612313019312,
          0.5199934189038319,
          -1.3037140340650124
         ],
         "z": [
          30.891755820442086,
          29.04932965890565,
          23.827662192183404,
          21.273804647146434,
          20.38780018839897,
          23.88940503719248,
          26.094095017940173,
          23.724141383658832,
          23.68366703014285,
          21.76560320902652,
          25.39787112220133,
          17.14014739192247,
          24.828069698781636,
          19.346159109052408,
          35.35919477625559,
          28.167362914835877,
          27.331834920559434,
          16.153238407840814,
          28.912197147896336,
          38.18972168592574,
          28.805824213444115,
          23.196583633688817,
          18.93426270097581,
          19.393849977586378,
          14.722499801456156,
          17.30850210177205,
          28.14729813847557,
          19.977077218230036,
          18.516900971432186,
          19.847829809557346,
          18.889826225964097,
          21.64473977773911,
          39.127639279124935,
          26.420058345945343,
          24.83848314052264,
          31.702875863301646,
          21.455506693148656,
          21.040171340309747,
          16.086740857227543,
          22.693694179319365,
          21.338823099711508,
          25.78671448035776,
          18.281247263431148,
          22.078376562545003,
          26.558442975695296,
          26.908067186727386,
          20.341896766181435,
          14.032334021559366,
          17.580426023754057,
          18.326315873234368,
          22.539170641939357,
          21.356177873316728,
          23.598251151264474,
          28.217781912507675,
          10.577633632493367,
          13.205335215491772,
          31.15744922618436,
          32.39198005123822,
          13.76681301621477,
          22.463505792785355,
          19.9237002242235,
          21.12572934236069,
          17.893982698427983,
          31.392975849744566,
          24.050104711664005,
          24.894400824537584,
          18.378985139267428,
          29.47336351270009,
          19.817808238198847,
          22.852515575799107,
          18.86825516198148,
          16.78919835685712,
          2.665871476589384,
          18.2872388492826,
          29.478819770975747,
          13.80732362249624,
          25.23186040027772,
          36.17731959331896,
          10.283364388564667,
          25.432982937006365,
          35.33900600310546,
          35.3959519142045,
          16.004588435062786,
          20.688602321295274,
          19.187909292913943,
          14.1526924024961,
          20.896427259499852,
          20.92999055837674,
          16.30673043072408,
          20.6427503903366,
          28.60013769765335,
          21.663177357338295,
          25.259141691656012,
          26.8415848746075,
          18.18149804962188,
          20.332965310377983,
          19.51037023381721,
          35.793950619820926,
          18.32925265553536,
          21.633918092863148,
          15.256121642808587,
          16.895350487303805,
          16.889204627437408,
          25.65355026614619,
          30.468230104649326,
          19.256224567068763,
          27.048308880435375,
          15.659567543509304,
          6.755013575968659,
          18.442760536283235,
          26.479735473833216,
          29.677607382969796,
          31.830335825657905,
          13.340740634873237,
          22.607461614409424,
          19.06322895095438,
          28.100305934723714,
          19.93712315355811,
          22.75106357204675,
          10.236641392426206,
          19.80171464652564,
          20.615514414915165,
          21.298255026630812,
          26.369763345063376,
          22.15265005767515,
          9.94103537338353,
          16.647910309682302,
          20.34514209651232,
          19.2299655272342,
          20.502499633437246,
          28.996784389662416,
          20.623883353568715,
          27.197518282712295,
          23.47548822795153,
          24.228500872885114,
          35.95850654538109,
          16.64356095932371,
          20.101908946315188,
          21.99778171949977,
          22.71315401046228,
          16.35521985890687,
          11.66431304441803,
          16.049236650888673,
          30.120308683560328,
          29.41564931917734,
          20.289620704551602,
          24.03179112885465,
          26.65527950912667,
          17.6736361732937,
          28.69877382824353,
          20.154088200729305,
          34.81439121073845
         ]
        }
       ],
       "layout": {
        "coloraxis": {
         "colorbar": {
          "title": {
           "text": "Residual"
          }
         },
         "colorscale": [
          [
           0,
           "#0d0887"
          ],
          [
           0.1111111111111111,
           "#46039f"
          ],
          [
           0.2222222222222222,
           "#7201a8"
          ],
          [
           0.3333333333333333,
           "#9c179e"
          ],
          [
           0.4444444444444444,
           "#bd3786"
          ],
          [
           0.5555555555555556,
           "#d8576b"
          ],
          [
           0.6666666666666666,
           "#ed7953"
          ],
          [
           0.7777777777777778,
           "#fb9f3a"
          ],
          [
           0.8888888888888888,
           "#fdca26"
          ],
          [
           1,
           "#f0f921"
          ]
         ]
        },
        "height": 600,
        "legend": {
         "tracegroupgap": 0
        },
        "scene": {
         "domain": {
          "x": [
           0,
           0.98
          ],
          "y": [
           0,
           1
          ]
         },
         "xaxis": {
          "title": {
           "text": "RM"
          }
         },
         "yaxis": {
          "title": {
           "text": "LSTAT"
          }
         },
         "zaxis": {
          "range": [
           5,
           50
          ],
          "title": {
           "text": "MEDV_pred"
          }
         }
        },
        "template": {
         "data": {
          "bar": [
           {
            "error_x": {
             "color": "#2a3f5f"
            },
            "error_y": {
             "color": "#2a3f5f"
            },
            "marker": {
             "line": {
              "color": "#E5ECF6",
              "width": 0.5
             }
            },
            "type": "bar"
           }
          ],
          "barpolar": [
           {
            "marker": {
             "line": {
              "color": "#E5ECF6",
              "width": 0.5
             }
            },
            "type": "barpolar"
           }
          ],
          "carpet": [
           {
            "aaxis": {
             "endlinecolor": "#2a3f5f",
             "gridcolor": "white",
             "linecolor": "white",
             "minorgridcolor": "white",
             "startlinecolor": "#2a3f5f"
            },
            "baxis": {
             "endlinecolor": "#2a3f5f",
             "gridcolor": "white",
             "linecolor": "white",
             "minorgridcolor": "white",
             "startlinecolor": "#2a3f5f"
            },
            "type": "carpet"
           }
          ],
          "choropleth": [
           {
            "colorbar": {
             "outlinewidth": 0,
             "ticks": ""
            },
            "type": "choropleth"
           }
          ],
          "contour": [
           {
            "colorbar": {
             "outlinewidth": 0,
             "ticks": ""
            },
            "colorscale": [
             [
              0,
              "#0d0887"
             ],
             [
              0.1111111111111111,
              "#46039f"
             ],
             [
              0.2222222222222222,
              "#7201a8"
             ],
             [
              0.3333333333333333,
              "#9c179e"
             ],
             [
              0.4444444444444444,
              "#bd3786"
             ],
             [
              0.5555555555555556,
              "#d8576b"
             ],
             [
              0.6666666666666666,
              "#ed7953"
             ],
             [
              0.7777777777777778,
              "#fb9f3a"
             ],
             [
              0.8888888888888888,
              "#fdca26"
             ],
             [
              1,
              "#f0f921"
             ]
            ],
            "type": "contour"
           }
          ],
          "contourcarpet": [
           {
            "colorbar": {
             "outlinewidth": 0,
             "ticks": ""
            },
            "type": "contourcarpet"
           }
          ],
          "heatmap": [
           {
            "colorbar": {
             "outlinewidth": 0,
             "ticks": ""
            },
            "colorscale": [
             [
              0,
              "#0d0887"
             ],
             [
              0.1111111111111111,
              "#46039f"
             ],
             [
              0.2222222222222222,
              "#7201a8"
             ],
             [
              0.3333333333333333,
              "#9c179e"
             ],
             [
              0.4444444444444444,
              "#bd3786"
             ],
             [
              0.5555555555555556,
              "#d8576b"
             ],
             [
              0.6666666666666666,
              "#ed7953"
             ],
             [
              0.7777777777777778,
              "#fb9f3a"
             ],
             [
              0.8888888888888888,
              "#fdca26"
             ],
             [
              1,
              "#f0f921"
             ]
            ],
            "type": "heatmap"
           }
          ],
          "heatmapgl": [
           {
            "colorbar": {
             "outlinewidth": 0,
             "ticks": ""
            },
            "colorscale": [
             [
              0,
              "#0d0887"
             ],
             [
              0.1111111111111111,
              "#46039f"
             ],
             [
              0.2222222222222222,
              "#7201a8"
             ],
             [
              0.3333333333333333,
              "#9c179e"
             ],
             [
              0.4444444444444444,
              "#bd3786"
             ],
             [
              0.5555555555555556,
              "#d8576b"
             ],
             [
              0.6666666666666666,
              "#ed7953"
             ],
             [
              0.7777777777777778,
              "#fb9f3a"
             ],
             [
              0.8888888888888888,
              "#fdca26"
             ],
             [
              1,
              "#f0f921"
             ]
            ],
            "type": "heatmapgl"
           }
          ],
          "histogram": [
           {
            "marker": {
             "colorbar": {
              "outlinewidth": 0,
              "ticks": ""
             }
            },
            "type": "histogram"
           }
          ],
          "histogram2d": [
           {
            "colorbar": {
             "outlinewidth": 0,
             "ticks": ""
            },
            "colorscale": [
             [
              0,
              "#0d0887"
             ],
             [
              0.1111111111111111,
              "#46039f"
             ],
             [
              0.2222222222222222,
              "#7201a8"
             ],
             [
              0.3333333333333333,
              "#9c179e"
             ],
             [
              0.4444444444444444,
              "#bd3786"
             ],
             [
              0.5555555555555556,
              "#d8576b"
             ],
             [
              0.6666666666666666,
              "#ed7953"
             ],
             [
              0.7777777777777778,
              "#fb9f3a"
             ],
             [
              0.8888888888888888,
              "#fdca26"
             ],
             [
              1,
              "#f0f921"
             ]
            ],
            "type": "histogram2d"
           }
          ],
          "histogram2dcontour": [
           {
            "colorbar": {
             "outlinewidth": 0,
             "ticks": ""
            },
            "colorscale": [
             [
              0,
              "#0d0887"
             ],
             [
              0.1111111111111111,
              "#46039f"
             ],
             [
              0.2222222222222222,
              "#7201a8"
             ],
             [
              0.3333333333333333,
              "#9c179e"
             ],
             [
              0.4444444444444444,
              "#bd3786"
             ],
             [
              0.5555555555555556,
              "#d8576b"
             ],
             [
              0.6666666666666666,
              "#ed7953"
             ],
             [
              0.7777777777777778,
              "#fb9f3a"
             ],
             [
              0.8888888888888888,
              "#fdca26"
             ],
             [
              1,
              "#f0f921"
             ]
            ],
            "type": "histogram2dcontour"
           }
          ],
          "mesh3d": [
           {
            "colorbar": {
             "outlinewidth": 0,
             "ticks": ""
            },
            "type": "mesh3d"
           }
          ],
          "parcoords": [
           {
            "line": {
             "colorbar": {
              "outlinewidth": 0,
              "ticks": ""
             }
            },
            "type": "parcoords"
           }
          ],
          "scatter": [
           {
            "marker": {
             "colorbar": {
              "outlinewidth": 0,
              "ticks": ""
             }
            },
            "type": "scatter"
           }
          ],
          "scatter3d": [
           {
            "line": {
             "colorbar": {
              "outlinewidth": 0,
              "ticks": ""
             }
            },
            "marker": {
             "colorbar": {
              "outlinewidth": 0,
              "ticks": ""
             }
            },
            "type": "scatter3d"
           }
          ],
          "scattercarpet": [
           {
            "marker": {
             "colorbar": {
              "outlinewidth": 0,
              "ticks": ""
             }
            },
            "type": "scattercarpet"
           }
          ],
          "scattergeo": [
           {
            "marker": {
             "colorbar": {
              "outlinewidth": 0,
              "ticks": ""
             }
            },
            "type": "scattergeo"
           }
          ],
          "scattergl": [
           {
            "marker": {
             "colorbar": {
              "outlinewidth": 0,
              "ticks": ""
             }
            },
            "type": "scattergl"
           }
          ],
          "scattermapbox": [
           {
            "marker": {
             "colorbar": {
              "outlinewidth": 0,
              "ticks": ""
             }
            },
            "type": "scattermapbox"
           }
          ],
          "scatterpolar": [
           {
            "marker": {
             "colorbar": {
              "outlinewidth": 0,
              "ticks": ""
             }
            },
            "type": "scatterpolar"
           }
          ],
          "scatterpolargl": [
           {
            "marker": {
             "colorbar": {
              "outlinewidth": 0,
              "ticks": ""
             }
            },
            "type": "scatterpolargl"
           }
          ],
          "scatterternary": [
           {
            "marker": {
             "colorbar": {
              "outlinewidth": 0,
              "ticks": ""
             }
            },
            "type": "scatterternary"
           }
          ],
          "surface": [
           {
            "colorbar": {
             "outlinewidth": 0,
             "ticks": ""
            },
            "colorscale": [
             [
              0,
              "#0d0887"
             ],
             [
              0.1111111111111111,
              "#46039f"
             ],
             [
              0.2222222222222222,
              "#7201a8"
             ],
             [
              0.3333333333333333,
              "#9c179e"
             ],
             [
              0.4444444444444444,
              "#bd3786"
             ],
             [
              0.5555555555555556,
              "#d8576b"
             ],
             [
              0.6666666666666666,
              "#ed7953"
             ],
             [
              0.7777777777777778,
              "#fb9f3a"
             ],
             [
              0.8888888888888888,
              "#fdca26"
             ],
             [
              1,
              "#f0f921"
             ]
            ],
            "type": "surface"
           }
          ],
          "table": [
           {
            "cells": {
             "fill": {
              "color": "#EBF0F8"
             },
             "line": {
              "color": "white"
             }
            },
            "header": {
             "fill": {
              "color": "#C8D4E3"
             },
             "line": {
              "color": "white"
             }
            },
            "type": "table"
           }
          ]
         },
         "layout": {
          "annotationdefaults": {
           "arrowcolor": "#2a3f5f",
           "arrowhead": 0,
           "arrowwidth": 1
          },
          "colorscale": {
           "diverging": [
            [
             0,
             "#8e0152"
            ],
            [
             0.1,
             "#c51b7d"
            ],
            [
             0.2,
             "#de77ae"
            ],
            [
             0.3,
             "#f1b6da"
            ],
            [
             0.4,
             "#fde0ef"
            ],
            [
             0.5,
             "#f7f7f7"
            ],
            [
             0.6,
             "#e6f5d0"
            ],
            [
             0.7,
             "#b8e186"
            ],
            [
             0.8,
             "#7fbc41"
            ],
            [
             0.9,
             "#4d9221"
            ],
            [
             1,
             "#276419"
            ]
           ],
           "sequential": [
            [
             0,
             "#0d0887"
            ],
            [
             0.1111111111111111,
             "#46039f"
            ],
            [
             0.2222222222222222,
             "#7201a8"
            ],
            [
             0.3333333333333333,
             "#9c179e"
            ],
            [
             0.4444444444444444,
             "#bd3786"
            ],
            [
             0.5555555555555556,
             "#d8576b"
            ],
            [
             0.6666666666666666,
             "#ed7953"
            ],
            [
             0.7777777777777778,
             "#fb9f3a"
            ],
            [
             0.8888888888888888,
             "#fdca26"
            ],
            [
             1,
             "#f0f921"
            ]
           ],
           "sequentialminus": [
            [
             0,
             "#0d0887"
            ],
            [
             0.1111111111111111,
             "#46039f"
            ],
            [
             0.2222222222222222,
             "#7201a8"
            ],
            [
             0.3333333333333333,
             "#9c179e"
            ],
            [
             0.4444444444444444,
             "#bd3786"
            ],
            [
             0.5555555555555556,
             "#d8576b"
            ],
            [
             0.6666666666666666,
             "#ed7953"
            ],
            [
             0.7777777777777778,
             "#fb9f3a"
            ],
            [
             0.8888888888888888,
             "#fdca26"
            ],
            [
             1,
             "#f0f921"
            ]
           ]
          },
          "colorway": [
           "#636efa",
           "#EF553B",
           "#00cc96",
           "#ab63fa",
           "#FFA15A",
           "#19d3f3",
           "#FF6692",
           "#B6E880",
           "#FF97FF",
           "#FECB52"
          ],
          "font": {
           "color": "#2a3f5f"
          },
          "geo": {
           "bgcolor": "white",
           "lakecolor": "white",
           "landcolor": "#E5ECF6",
           "showlakes": true,
           "showland": true,
           "subunitcolor": "white"
          },
          "hoverlabel": {
           "align": "left"
          },
          "hovermode": "closest",
          "mapbox": {
           "style": "light"
          },
          "paper_bgcolor": "white",
          "plot_bgcolor": "#E5ECF6",
          "polar": {
           "angularaxis": {
            "gridcolor": "white",
            "linecolor": "white",
            "ticks": ""
           },
           "bgcolor": "#E5ECF6",
           "radialaxis": {
            "gridcolor": "white",
            "linecolor": "white",
            "ticks": ""
           }
          },
          "scene": {
           "xaxis": {
            "backgroundcolor": "#E5ECF6",
            "gridcolor": "white",
            "gridwidth": 2,
            "linecolor": "white",
            "showbackground": true,
            "ticks": "",
            "zerolinecolor": "white"
           },
           "yaxis": {
            "backgroundcolor": "#E5ECF6",
            "gridcolor": "white",
            "gridwidth": 2,
            "linecolor": "white",
            "showbackground": true,
            "ticks": "",
            "zerolinecolor": "white"
           },
           "zaxis": {
            "backgroundcolor": "#E5ECF6",
            "gridcolor": "white",
            "gridwidth": 2,
            "linecolor": "white",
            "showbackground": true,
            "ticks": "",
            "zerolinecolor": "white"
           }
          },
          "shapedefaults": {
           "line": {
            "color": "#2a3f5f"
           }
          },
          "ternary": {
           "aaxis": {
            "gridcolor": "white",
            "linecolor": "white",
            "ticks": ""
           },
           "baxis": {
            "gridcolor": "white",
            "linecolor": "white",
            "ticks": ""
           },
           "bgcolor": "#E5ECF6",
           "caxis": {
            "gridcolor": "white",
            "linecolor": "white",
            "ticks": ""
           }
          },
          "title": {
           "x": 0.05
          },
          "xaxis": {
           "automargin": true,
           "gridcolor": "white",
           "linecolor": "white",
           "ticks": "",
           "zerolinecolor": "white",
           "zerolinewidth": 2
          },
          "yaxis": {
           "automargin": true,
           "gridcolor": "white",
           "linecolor": "white",
           "ticks": "",
           "zerolinecolor": "white",
           "zerolinewidth": 2
          }
         }
        },
        "title": {
         "text": "Predicted Values for MEDV from OLS Model"
        }
       }
      },
      "text/html": [
       "<div>\n",
       "        \n",
       "        \n",
       "            <div id=\"5a13fff7-5c9f-49b1-ad8b-3c3ed027769f\" class=\"plotly-graph-div\" style=\"height:600px; width:100%;\"></div>\n",
       "            <script type=\"text/javascript\">\n",
       "                require([\"plotly\"], function(Plotly) {\n",
       "                    window.PLOTLYENV=window.PLOTLYENV || {};\n",
       "                    \n",
       "                if (document.getElementById(\"5a13fff7-5c9f-49b1-ad8b-3c3ed027769f\")) {\n",
       "                    Plotly.newPlot(\n",
       "                        '5a13fff7-5c9f-49b1-ad8b-3c3ed027769f',\n",
       "                        [{\"hoverlabel\": {\"namelength\": 0}, \"hovertemplate\": \"RM=%{x}<br>LSTAT=%{y}<br>MEDV_pred=%{z}<br>Residual=%{marker.color}\", \"legendgroup\": \"\", \"marker\": {\"color\": [3.7082441795579157, 2.4506703410943516, -3.227662192183402, -6.773804647146434, -4.18780018839897, -1.5894050371924777, -3.2940950179401725, 0.6758586163411664, -3.883667030142849, -5.06560320902652, -2.197871122201331, -2.040147391922469, -3.8280696987816363, -0.4461591090524095, 13.140805223744408, -4.067362914835876, -4.831834920559434, -0.05323840784081213, 1.3878028521036647, 11.81027831407426, 4.994175786555882, -12.796583633688817, 1.4657372990241875, -5.193849977586378, -4.222499801456156, -4.60850210177205, -3.64729813847557, -3.277077218230037, 1.5830990285678155, -2.747829809557345, -0.48982622596409797, 2.655260222260889, 10.872360720875065, -2.620058345945342, 5.861516859477359, 1.6971241366983527, -6.455506693148656, -10.140171340309747, 3.0132591427724584, -1.6936941793193654, 1.5611769002884905, -3.3867144803577602, 0.7187527365688524, -2.7783765625450023, 0.44155702430470356, 0.19193281327261502, -1.2418967661814335, 1.367665978440634, 1.519573976245944, -4.826315873234368, -1.6391706419393586, -2.0561778733167273, -3.098251151264474, -2.017781912507676, 1.4223663675066334, 6.4946647845082275, -1.5574492261843602, 2.5080199487617776, -5.46681301621477, -1.263505792785356, -5.423700224223499, 6.374270657639311, 1.5060173015720153, 1.3070241502554367, -2.950104711664004, 3.2055991754624173, -0.9789851392674294, 0.626636487299912, 1.5821917618011518, -1.952515575799108, -7.96825516198148, 4.910801643142879, 6.134128523410617, -3.087238849282599, -2.8788197709757455, -5.10732362249624, -0.5318604002777221, 2.52268040668104, -3.9833643885646675, -2.8329829370063635, 8.460993996894537, 14.604048085795498, -1.5045884350627858, -8.988602321295275, -6.687909292913943, -0.5526924024961009, 0.6035727405001481, -1.829990558376739, -6.80673043072408, -3.4427503903366024, 1.1998623023466521, 0.9368226426617063, -3.6591416916560107, -4.641584874607499, 8.918501950378122, -3.3329653103779826, 2.489629766182791, 14.206049380179074, -11.12925265553536, 28.366081907136852, -1.256121642808587, -5.895350487303805, -6.689204627437409, -3.553550266146189, 10.831769895350671, -1.6562245670687616, -2.3483088804353756, -7.159567543509304, 1.3449864240313403, 7.957239463716764, -3.479735473833216, 5.422392617030205, 3.569664174342094, -0.5407406348732362, 1.3925383855905764, 1.1367710490456204, 1.2996940652762845, -3.9371231535581117, 27.24893642795325, -1.7366413924262059, -4.9017146465256385, -6.815514414915164, 0.5017449733691883, -3.2697633450633745, -2.052650057675148, 3.4589646266164706, -1.3479103096823017, -0.3451420965123191, 0.7700344727658006, -0.8024996334372467, -6.196784389662415, -2.4238833535687156, -3.8975182827122943, -5.075488227951531, -1.228500872885114, 14.041493454618909, 6.45643904067629, 3.198091053684813, -0.5977817194997712, -1.3131540104622808, -3.2552198589068713, -4.66431304441803, -1.7492366508886725, 1.0796913164396713, 1.0843506808226593, -0.6896207045516007, 25.96820887114535, -2.255279509126673, 1.1263638267062994, 1.201226171756467, -7.554088200729305, 11.18560878926155], \"coloraxis\": \"coloraxis\", \"symbol\": \"circle\"}, \"mode\": \"markers\", \"name\": \"\", \"scene\": \"scene\", \"showlegend\": false, \"type\": \"scatter3d\", \"x\": [1.3658412405731906, 0.36057831169864596, -0.2409086485143769, -0.3077405329824907, -0.8187259829782769, 0.15172867273579127, 0.5875282527049491, 0.04591152232794383, 0.25197649943796196, 0.16425965107356183, -0.11699119606308338, -0.8075873355669246, 0.5304426847217694, -0.5639294234435935, 2.1720008469698118, 0.3981712467119601, 0.0723658099299057, -1.8379122211170116, 1.1333219758612116, 2.898797590560549, 1.2669857447974393, 0.9397879770889654, -0.5862067182662981, -0.39963437412614683, -0.6613925882929265, -0.44140430191871827, 0.4761417785914262, 0.265899808702152, -0.8075873355669246, -0.8173336520518574, -0.6558232645872497, -0.43444264728662324, 3.386113414807211, 0.18514461496984816, 1.0038351997042414, 0.9815579048815368, -0.7463247748044876, -0.12673751254801616, -0.4038113669054041, -0.6168379986475173, -0.39128038856763353, 0.41766387968182694, -0.4748202441527752, -0.5917760419719736, -0.05990562807990238, 0.3564013189193899, -0.24926263407289145, -0.9690977230315323, -0.5110208482396699, -0.49709753897547976, -0.5806373945606214, -0.21723902276525406, -0.24787030314647193, 0.5917052454842064, -1.37705068447231, -1.2573102248002739, 0.9244723368983558, 1.0177585089684316, -0.5527907760322412, -0.08496758475544475, 0.07654280270916296, 0.7782775896243577, -0.8131566592726014, 1.3198943200013618, -0.3564721154071572, 0.11413573772247712, -0.48874355341696524, 0.6056285547483965, -0.4274809926545282, -0.5681064162228509, 0.3508319952137131, -0.17964608775193988, -2.6802724316005277, -0.21027736813315778, 0.6641064536579957, -0.19635405886896773, -0.11420653421024438, 2.472744327076325, -0.6140533367946782, 0.17261363663207638, 2.1260539263979847, 2.790195778299865, -0.6683542429250215, -0.11838352698950164, 0.15590566551504853, -1.0066906580448465, -0.23812398666153914, -0.5750680708549458, 0.12109739235457215, -0.5500061141794035, 0.3661476354043227, -0.5597524306643363, 0.17818296033775313, 0.2269145427624196, -0.1685074403405876, -0.22837767017660635, -0.5889913801191359, 2.2778179973776593, 0.06958114807706793, -1.8420892138962688, -0.1657227784877486, -0.13926849088578797, -0.09749856309321654, -0.23812398666153914, 0.904979703928489, -0.974667046737209, 0.1252743851338294, -0.7602480840686776, -1.6708325099467272, -0.9593514065465995, 0.026418889358078235, 0.7225843525675962, 1.3310329674127142, -0.9273277952389621, -0.28824790001262385, -1.1654163836566165, 0.35222432614013266, -0.4553276111829083, -0.5820297254870409, -1.0609915641751897, 0.06679648622423016, -0.13926849088578797, -0.7393631201723926, 0.11552806864889661, -0.17546909497268262, -1.2392099227568265, -1.7836113149866695, -0.2952095546447189, -0.7059471779383356, -0.4595046039621656, 0.4761417785914262, -0.7880947025970577, 0.43576418172527426, 0.28121544889276157, 0.11135107586963935, 2.202632127351031, -0.8674575654029434, -0.5639294234435935, -0.08914457753470201, -0.18103841867835815, -0.8242953066839537, -1.223894282566217, -0.9134044859747721, 0.8089088700055757, 0.6209441949390061, -0.4567199421093278, -0.10724487957814934, 0.3410856787287803, -0.5764604017813654, 0.7894162370357101, -0.05851329715348288, 1.8823960142746523], \"y\": [-0.813499298010096, -1.2018688672946005, -0.47944715100314467, 0.05829532954463052, -0.15082674622394865, -0.1752695862488475, -0.3327901108537514, -0.22279733074170638, -0.04626570833965907, 0.3271665698185182, -0.742886649049277, 0.610975101218733, -0.08564583949088492, 0.2972919875658642, -1.1950791895099062, -0.9669460159441834, -1.0375586649050024, 0.00397790726707765, -0.5432701221792696, -1.2616180317999088, -0.41019243759926455, 0.6245544567881214, 0.3746943143113771, 0.4195061876903584, 1.2899428796881462, 0.8689828570371103, -0.899049238097242, 0.8241709836581288, 0.2918602453381088, -0.024538739428637824, 0.328524505375457, -0.1304577128698662, -1.0837284738409225, -0.7347390357076441, 0.2959340520089252, -1.3132195829635842, -0.3395797886384456, 0.2592697919715769, 1.1826659706899791, -0.5215431532682484, -0.024538739428637824, -0.39932895314375394, 0.6164068434464882, -0.358590886435589, -0.9655880803872446, -0.7089382601258064, 0.32173482759076305, 1.2003191329301837, 0.7494845280264932, 0.5878901967507731, -0.45636224653518465, 0.11261275182218362, -0.4319194065102858, -0.8216469113517291, 1.6701648356310177, 1.1582231306650803, -1.2331013851041934, -1.4435813964297115, 1.599552186670199, -0.036760159441087244, 0.682945685736491, 0.9735438949213999, 0.4317276077028078, -0.9669460159441834, -0.6247462555955992, -0.4387090842949798, 0.5824584545230175, -1.1013816360811273, 0.29864992312280303, -0.5188272821543708, 1.150075517323447, 1.2016770684871227, 2.4469039742000263, 0.829602725885884, -1.0552118271452071, 1.879286911399597, -0.7021485823411122, -1.1407617672323533, 2.357280227442064, -0.516111411040493, -1.227669642876438, -0.7021485823411122, 0.9871232504907879, 0.3475356031726007, 0.917868537086908, 1.1419279039818142, 0.2022364985801462, -0.07885616170619093, 1.557456184405095, 0.008051713937894042, -1.0932340227394943, -0.23637668631109485, -0.47129953766151167, -0.7985620068837689, 0.8879939548342535, 0.34074592538790643, 0.23890075861749446, -1.2100164806362332, 1.0468724149960964, -1.2697656451415418, 1.5683196688606058, 1.2098246818287555, 1.2451310063091652, -0.9004071736541809, -1.0891602160686777, -0.015033190530066, -0.9289238203498963, 0.9925549927185435, 2.3179000962908383, 0.1859412718968804, -0.8773222691862208, -1.0538538915882685, -1.0592856338160237, 1.3945039175724359, -0.2350187507541558, -0.12502597064211102, -0.9886729848552046, 0.2484063075160663, -0.5066058621419212, 2.005574918194908, 0.7033147190905732, 0.3475356031726007, -0.29748378637334194, -0.7795509090866254, -0.03811809499802604, 1.9295305270063337, -0.06663474169374152, 0.28371263199647573, 0.20902617636484044, 0.11397068737912243, -1.0959498938533718, -0.18070132847660292, -0.711654131239684, 0.025704876178098895, -0.28662030191783133, -1.3091457762927676, 0.6775139435087357, 0.12211830072075545, 0.06780087844320234, -0.1725537151349699, 0.7793591102791477, 1.542518893278768, 0.7780011747222086, -1.0864443449548, -1.0755808604992896, 0.16557223854279796, -0.4183400509408976, -0.6627684511898863, 0.6747980723948577, -0.7727612313019312, 0.5199934189038319, -1.3037140340650124], \"z\": [30.891755820442086, 29.04932965890565, 23.827662192183404, 21.273804647146434, 20.38780018839897, 23.88940503719248, 26.094095017940173, 23.724141383658832, 23.68366703014285, 21.76560320902652, 25.39787112220133, 17.14014739192247, 24.828069698781636, 19.346159109052408, 35.35919477625559, 28.167362914835877, 27.331834920559434, 16.153238407840814, 28.912197147896336, 38.18972168592574, 28.805824213444115, 23.196583633688817, 18.93426270097581, 19.393849977586378, 14.722499801456156, 17.30850210177205, 28.14729813847557, 19.977077218230036, 18.516900971432186, 19.847829809557346, 18.889826225964097, 21.64473977773911, 39.127639279124935, 26.420058345945343, 24.83848314052264, 31.702875863301646, 21.455506693148656, 21.040171340309747, 16.086740857227543, 22.693694179319365, 21.338823099711508, 25.78671448035776, 18.281247263431148, 22.078376562545003, 26.558442975695296, 26.908067186727386, 20.341896766181435, 14.032334021559366, 17.580426023754057, 18.326315873234368, 22.539170641939357, 21.356177873316728, 23.598251151264474, 28.217781912507675, 10.577633632493367, 13.205335215491772, 31.15744922618436, 32.39198005123822, 13.76681301621477, 22.463505792785355, 19.9237002242235, 21.12572934236069, 17.893982698427983, 31.392975849744566, 24.050104711664005, 24.894400824537584, 18.378985139267428, 29.47336351270009, 19.817808238198847, 22.852515575799107, 18.86825516198148, 16.78919835685712, 2.665871476589384, 18.2872388492826, 29.478819770975747, 13.80732362249624, 25.23186040027772, 36.17731959331896, 10.283364388564667, 25.432982937006365, 35.33900600310546, 35.3959519142045, 16.004588435062786, 20.688602321295274, 19.187909292913943, 14.1526924024961, 20.896427259499852, 20.92999055837674, 16.30673043072408, 20.6427503903366, 28.60013769765335, 21.663177357338295, 25.259141691656012, 26.8415848746075, 18.18149804962188, 20.332965310377983, 19.51037023381721, 35.793950619820926, 18.32925265553536, 21.633918092863148, 15.256121642808587, 16.895350487303805, 16.889204627437408, 25.65355026614619, 30.468230104649326, 19.256224567068763, 27.048308880435375, 15.659567543509304, 6.755013575968659, 18.442760536283235, 26.479735473833216, 29.677607382969796, 31.830335825657905, 13.340740634873237, 22.607461614409424, 19.06322895095438, 28.100305934723714, 19.93712315355811, 22.75106357204675, 10.236641392426206, 19.80171464652564, 20.615514414915165, 21.298255026630812, 26.369763345063376, 22.15265005767515, 9.94103537338353, 16.647910309682302, 20.34514209651232, 19.2299655272342, 20.502499633437246, 28.996784389662416, 20.623883353568715, 27.197518282712295, 23.47548822795153, 24.228500872885114, 35.95850654538109, 16.64356095932371, 20.101908946315188, 21.99778171949977, 22.71315401046228, 16.35521985890687, 11.66431304441803, 16.049236650888673, 30.120308683560328, 29.41564931917734, 20.289620704551602, 24.03179112885465, 26.65527950912667, 17.6736361732937, 28.69877382824353, 20.154088200729305, 34.81439121073845]}],\n",
       "                        {\"coloraxis\": {\"colorbar\": {\"title\": {\"text\": \"Residual\"}}, \"colorscale\": [[0.0, \"#0d0887\"], [0.1111111111111111, \"#46039f\"], [0.2222222222222222, \"#7201a8\"], [0.3333333333333333, \"#9c179e\"], [0.4444444444444444, \"#bd3786\"], [0.5555555555555556, \"#d8576b\"], [0.6666666666666666, \"#ed7953\"], [0.7777777777777778, \"#fb9f3a\"], [0.8888888888888888, \"#fdca26\"], [1.0, \"#f0f921\"]]}, \"height\": 600, \"legend\": {\"tracegroupgap\": 0}, \"scene\": {\"domain\": {\"x\": [0.0, 0.98], \"y\": [0.0, 1.0]}, \"xaxis\": {\"title\": {\"text\": \"RM\"}}, \"yaxis\": {\"title\": {\"text\": \"LSTAT\"}}, \"zaxis\": {\"range\": [5, 50], \"title\": {\"text\": \"MEDV_pred\"}}}, \"template\": {\"data\": {\"bar\": [{\"error_x\": {\"color\": \"#2a3f5f\"}, \"error_y\": {\"color\": \"#2a3f5f\"}, \"marker\": {\"line\": {\"color\": \"#E5ECF6\", \"width\": 0.5}}, \"type\": \"bar\"}], \"barpolar\": [{\"marker\": {\"line\": {\"color\": \"#E5ECF6\", \"width\": 0.5}}, \"type\": \"barpolar\"}], \"carpet\": [{\"aaxis\": {\"endlinecolor\": \"#2a3f5f\", \"gridcolor\": \"white\", \"linecolor\": \"white\", \"minorgridcolor\": \"white\", \"startlinecolor\": \"#2a3f5f\"}, \"baxis\": {\"endlinecolor\": \"#2a3f5f\", \"gridcolor\": \"white\", \"linecolor\": \"white\", \"minorgridcolor\": \"white\", \"startlinecolor\": \"#2a3f5f\"}, \"type\": \"carpet\"}], \"choropleth\": [{\"colorbar\": {\"outlinewidth\": 0, \"ticks\": \"\"}, \"type\": \"choropleth\"}], \"contour\": [{\"colorbar\": {\"outlinewidth\": 0, \"ticks\": \"\"}, \"colorscale\": [[0.0, \"#0d0887\"], [0.1111111111111111, \"#46039f\"], [0.2222222222222222, \"#7201a8\"], [0.3333333333333333, \"#9c179e\"], [0.4444444444444444, \"#bd3786\"], [0.5555555555555556, \"#d8576b\"], [0.6666666666666666, \"#ed7953\"], [0.7777777777777778, \"#fb9f3a\"], [0.8888888888888888, \"#fdca26\"], [1.0, \"#f0f921\"]], \"type\": \"contour\"}], \"contourcarpet\": [{\"colorbar\": {\"outlinewidth\": 0, \"ticks\": \"\"}, \"type\": \"contourcarpet\"}], \"heatmap\": [{\"colorbar\": {\"outlinewidth\": 0, \"ticks\": \"\"}, \"colorscale\": [[0.0, \"#0d0887\"], [0.1111111111111111, \"#46039f\"], [0.2222222222222222, \"#7201a8\"], [0.3333333333333333, \"#9c179e\"], [0.4444444444444444, \"#bd3786\"], [0.5555555555555556, \"#d8576b\"], [0.6666666666666666, \"#ed7953\"], [0.7777777777777778, \"#fb9f3a\"], [0.8888888888888888, \"#fdca26\"], [1.0, \"#f0f921\"]], \"type\": \"heatmap\"}], \"heatmapgl\": [{\"colorbar\": {\"outlinewidth\": 0, \"ticks\": \"\"}, \"colorscale\": [[0.0, \"#0d0887\"], [0.1111111111111111, \"#46039f\"], [0.2222222222222222, \"#7201a8\"], [0.3333333333333333, \"#9c179e\"], [0.4444444444444444, \"#bd3786\"], [0.5555555555555556, \"#d8576b\"], [0.6666666666666666, \"#ed7953\"], [0.7777777777777778, \"#fb9f3a\"], [0.8888888888888888, \"#fdca26\"], [1.0, \"#f0f921\"]], \"type\": \"heatmapgl\"}], \"histogram\": [{\"marker\": {\"colorbar\": {\"outlinewidth\": 0, \"ticks\": \"\"}}, \"type\": \"histogram\"}], \"histogram2d\": [{\"colorbar\": {\"outlinewidth\": 0, \"ticks\": \"\"}, \"colorscale\": [[0.0, \"#0d0887\"], [0.1111111111111111, \"#46039f\"], [0.2222222222222222, \"#7201a8\"], [0.3333333333333333, \"#9c179e\"], [0.4444444444444444, \"#bd3786\"], [0.5555555555555556, \"#d8576b\"], [0.6666666666666666, \"#ed7953\"], [0.7777777777777778, \"#fb9f3a\"], [0.8888888888888888, \"#fdca26\"], [1.0, \"#f0f921\"]], \"type\": \"histogram2d\"}], \"histogram2dcontour\": [{\"colorbar\": {\"outlinewidth\": 0, \"ticks\": \"\"}, \"colorscale\": [[0.0, \"#0d0887\"], [0.1111111111111111, \"#46039f\"], [0.2222222222222222, \"#7201a8\"], [0.3333333333333333, \"#9c179e\"], [0.4444444444444444, \"#bd3786\"], [0.5555555555555556, \"#d8576b\"], [0.6666666666666666, \"#ed7953\"], [0.7777777777777778, \"#fb9f3a\"], [0.8888888888888888, \"#fdca26\"], [1.0, \"#f0f921\"]], \"type\": \"histogram2dcontour\"}], \"mesh3d\": [{\"colorbar\": {\"outlinewidth\": 0, \"ticks\": \"\"}, \"type\": \"mesh3d\"}], \"parcoords\": [{\"line\": {\"colorbar\": {\"outlinewidth\": 0, \"ticks\": \"\"}}, \"type\": \"parcoords\"}], \"scatter\": [{\"marker\": {\"colorbar\": {\"outlinewidth\": 0, \"ticks\": \"\"}}, \"type\": \"scatter\"}], \"scatter3d\": [{\"line\": {\"colorbar\": {\"outlinewidth\": 0, \"ticks\": \"\"}}, \"marker\": {\"colorbar\": {\"outlinewidth\": 0, \"ticks\": \"\"}}, \"type\": \"scatter3d\"}], \"scattercarpet\": [{\"marker\": {\"colorbar\": {\"outlinewidth\": 0, \"ticks\": \"\"}}, \"type\": \"scattercarpet\"}], \"scattergeo\": [{\"marker\": {\"colorbar\": {\"outlinewidth\": 0, \"ticks\": \"\"}}, \"type\": \"scattergeo\"}], \"scattergl\": [{\"marker\": {\"colorbar\": {\"outlinewidth\": 0, \"ticks\": \"\"}}, \"type\": \"scattergl\"}], \"scattermapbox\": [{\"marker\": {\"colorbar\": {\"outlinewidth\": 0, \"ticks\": \"\"}}, \"type\": \"scattermapbox\"}], \"scatterpolar\": [{\"marker\": {\"colorbar\": {\"outlinewidth\": 0, \"ticks\": \"\"}}, \"type\": \"scatterpolar\"}], \"scatterpolargl\": [{\"marker\": {\"colorbar\": {\"outlinewidth\": 0, \"ticks\": \"\"}}, \"type\": \"scatterpolargl\"}], \"scatterternary\": [{\"marker\": {\"colorbar\": {\"outlinewidth\": 0, \"ticks\": \"\"}}, \"type\": \"scatterternary\"}], \"surface\": [{\"colorbar\": {\"outlinewidth\": 0, \"ticks\": \"\"}, \"colorscale\": [[0.0, \"#0d0887\"], [0.1111111111111111, \"#46039f\"], [0.2222222222222222, \"#7201a8\"], [0.3333333333333333, \"#9c179e\"], [0.4444444444444444, \"#bd3786\"], [0.5555555555555556, \"#d8576b\"], [0.6666666666666666, \"#ed7953\"], [0.7777777777777778, \"#fb9f3a\"], [0.8888888888888888, \"#fdca26\"], [1.0, \"#f0f921\"]], \"type\": \"surface\"}], \"table\": [{\"cells\": {\"fill\": {\"color\": \"#EBF0F8\"}, \"line\": {\"color\": \"white\"}}, \"header\": {\"fill\": {\"color\": \"#C8D4E3\"}, \"line\": {\"color\": \"white\"}}, \"type\": \"table\"}]}, \"layout\": {\"annotationdefaults\": {\"arrowcolor\": \"#2a3f5f\", \"arrowhead\": 0, \"arrowwidth\": 1}, \"colorscale\": {\"diverging\": [[0, \"#8e0152\"], [0.1, \"#c51b7d\"], [0.2, \"#de77ae\"], [0.3, \"#f1b6da\"], [0.4, \"#fde0ef\"], [0.5, \"#f7f7f7\"], [0.6, \"#e6f5d0\"], [0.7, \"#b8e186\"], [0.8, \"#7fbc41\"], [0.9, \"#4d9221\"], [1, \"#276419\"]], \"sequential\": [[0.0, \"#0d0887\"], [0.1111111111111111, \"#46039f\"], [0.2222222222222222, \"#7201a8\"], [0.3333333333333333, \"#9c179e\"], [0.4444444444444444, \"#bd3786\"], [0.5555555555555556, \"#d8576b\"], [0.6666666666666666, \"#ed7953\"], [0.7777777777777778, \"#fb9f3a\"], [0.8888888888888888, \"#fdca26\"], [1.0, \"#f0f921\"]], \"sequentialminus\": [[0.0, \"#0d0887\"], [0.1111111111111111, \"#46039f\"], [0.2222222222222222, \"#7201a8\"], [0.3333333333333333, \"#9c179e\"], [0.4444444444444444, \"#bd3786\"], [0.5555555555555556, \"#d8576b\"], [0.6666666666666666, \"#ed7953\"], [0.7777777777777778, \"#fb9f3a\"], [0.8888888888888888, \"#fdca26\"], [1.0, \"#f0f921\"]]}, \"colorway\": [\"#636efa\", \"#EF553B\", \"#00cc96\", \"#ab63fa\", \"#FFA15A\", \"#19d3f3\", \"#FF6692\", \"#B6E880\", \"#FF97FF\", \"#FECB52\"], \"font\": {\"color\": \"#2a3f5f\"}, \"geo\": {\"bgcolor\": \"white\", \"lakecolor\": \"white\", \"landcolor\": \"#E5ECF6\", \"showlakes\": true, \"showland\": true, \"subunitcolor\": \"white\"}, \"hoverlabel\": {\"align\": \"left\"}, \"hovermode\": \"closest\", \"mapbox\": {\"style\": \"light\"}, \"paper_bgcolor\": \"white\", \"plot_bgcolor\": \"#E5ECF6\", \"polar\": {\"angularaxis\": {\"gridcolor\": \"white\", \"linecolor\": \"white\", \"ticks\": \"\"}, \"bgcolor\": \"#E5ECF6\", \"radialaxis\": {\"gridcolor\": \"white\", \"linecolor\": \"white\", \"ticks\": \"\"}}, \"scene\": {\"xaxis\": {\"backgroundcolor\": \"#E5ECF6\", \"gridcolor\": \"white\", \"gridwidth\": 2, \"linecolor\": \"white\", \"showbackground\": true, \"ticks\": \"\", \"zerolinecolor\": \"white\"}, \"yaxis\": {\"backgroundcolor\": \"#E5ECF6\", \"gridcolor\": \"white\", \"gridwidth\": 2, \"linecolor\": \"white\", \"showbackground\": true, \"ticks\": \"\", \"zerolinecolor\": \"white\"}, \"zaxis\": {\"backgroundcolor\": \"#E5ECF6\", \"gridcolor\": \"white\", \"gridwidth\": 2, \"linecolor\": \"white\", \"showbackground\": true, \"ticks\": \"\", \"zerolinecolor\": \"white\"}}, \"shapedefaults\": {\"line\": {\"color\": \"#2a3f5f\"}}, \"ternary\": {\"aaxis\": {\"gridcolor\": \"white\", \"linecolor\": \"white\", \"ticks\": \"\"}, \"baxis\": {\"gridcolor\": \"white\", \"linecolor\": \"white\", \"ticks\": \"\"}, \"bgcolor\": \"#E5ECF6\", \"caxis\": {\"gridcolor\": \"white\", \"linecolor\": \"white\", \"ticks\": \"\"}}, \"title\": {\"x\": 0.05}, \"xaxis\": {\"automargin\": true, \"gridcolor\": \"white\", \"linecolor\": \"white\", \"ticks\": \"\", \"zerolinecolor\": \"white\", \"zerolinewidth\": 2}, \"yaxis\": {\"automargin\": true, \"gridcolor\": \"white\", \"linecolor\": \"white\", \"ticks\": \"\", \"zerolinecolor\": \"white\", \"zerolinewidth\": 2}}}, \"title\": {\"text\": \"Predicted Values for MEDV from OLS Model\"}},\n",
       "                        {\"responsive\": true}\n",
       "                    ).then(function(){\n",
       "                            \n",
       "var gd = document.getElementById('5a13fff7-5c9f-49b1-ad8b-3c3ed027769f');\n",
       "var x = new MutationObserver(function (mutations, observer) {{\n",
       "        var display = window.getComputedStyle(gd).display;\n",
       "        if (!display || display === 'none') {{\n",
       "            console.log([gd, 'removed!']);\n",
       "            Plotly.purge(gd);\n",
       "            observer.disconnect();\n",
       "        }}\n",
       "}});\n",
       "\n",
       "// Listen for the removal of the full notebook cells\n",
       "var notebookContainer = gd.closest('#notebook-container');\n",
       "if (notebookContainer) {{\n",
       "    x.observe(notebookContainer, {childList: true});\n",
       "}}\n",
       "\n",
       "// Listen for the clearing of the current output cell\n",
       "var outputEl = gd.closest('.output');\n",
       "if (outputEl) {{\n",
       "    x.observe(outputEl, {childList: true});\n",
       "}}\n",
       "\n",
       "                        })\n",
       "                };\n",
       "                });\n",
       "            </script>\n",
       "        </div>"
      ]
     },
     "metadata": {},
     "output_type": "display_data"
    },
    {
     "data": {
      "text/plain": [
       "<Figure size 432x288 with 0 Axes>"
      ]
     },
     "metadata": {},
     "output_type": "display_data"
    }
   ],
   "source": [
    "# DataFrame of test data, XGBoost predictions, and true values\n",
    "OLS_test = X_test.copy()\n",
    "OLS_test['MEDV_pred'] = predictions_LR.tolist()\n",
    "OLS_test['MEDV_true'] = y_test.tolist()\n",
    "OLS_test['Residual'] = OLS_test['MEDV_true'] - OLS_test['MEDV_pred']\n",
    "print(OLS_test.head())\n",
    "\n",
    "# Visualizing the OLS Predictions\n",
    "plt.figure()\n",
    "fig = px.scatter_3d(OLS_test, x = 'RM', y = 'LSTAT', z = 'MEDV_pred', \n",
    "                    title = 'Predicted Values for MEDV from OLS Model',\n",
    "                    color = 'Residual',\n",
    "                    range_z = [5, 50])\n",
    "fig.show()"
   ]
  },
  {
   "cell_type": "markdown",
   "metadata": {},
   "source": [
    "### Creating a GUI Application to Make Predictions\n",
    "\n",
    "This lightweight program using `tkinter` creates a window that accepts input for values of `LSTAT` and `RM` and returns a value for `MEDV`."
   ]
  },
  {
   "cell_type": "code",
   "execution_count": 177,
   "metadata": {},
   "outputs": [],
   "source": [
    "def call_result(label_result, n1, n2):\n",
    "    num1 = (n1.get())\n",
    "    num2 = (n2.get())\n",
    "\n",
    "    new_data = pd.DataFrame({'RM': [num1], 'LSTAT': [num2]})\n",
    "    new_data = scaler.transform(new_data)\n",
    "    new_data = pd.DataFrame(new_data, columns = ['RM', 'LSTAT'])\n",
    "\n",
    "    result = model_XGB.predict(new_data)[0]\n",
    "    label_result.config(text=\"Result is %d\" % result)\n",
    "    return\n",
    "\n",
    "root = tk.Tk()\n",
    "root.geometry('400x200+100+200')\n",
    "root.title('Prediction with Regression Model')\n",
    "\n",
    "number1 = tk.StringVar()\n",
    "number2 = tk.StringVar()\n",
    "\n",
    "label_Title = tk.Label(root, text = 'Prediction with Regression Model').grid(row = 0, column = 2)\n",
    "label_Num1 = tk.Label(root, text = 'Enter the value for RM').grid(row = 1, column = 0)\n",
    "label_Num2 = tk.Label(root, text = 'Enter the value for LSTAT').grid(row = 2, column = 0)\n",
    "label_Result = tk.Label(root)\n",
    "label_Result.grid(row = 7, column = 2)\n",
    "\n",
    "\n",
    "entry_Num1 = tk.Entry(root, textvariable = number1).grid(row=1, column=2)\n",
    "entry_Num2 = tk.Entry(root, textvariable = number2).grid(row=2, column=2)\n",
    "\n",
    "call_result = partial(call_result, label_Result, number1, number2)\n",
    "buttonCal = tk.Button(root, text = \"Calculate\", command = call_result).grid(row = 3, column = 0)\n",
    "root.mainloop()"
   ]
  }
 ],
 "metadata": {
  "kernelspec": {
   "display_name": "Python 3",
   "language": "python",
   "name": "python3"
  },
  "language_info": {
   "codemirror_mode": {
    "name": "ipython",
    "version": 3
   },
   "file_extension": ".py",
   "mimetype": "text/x-python",
   "name": "python",
   "nbconvert_exporter": "python",
   "pygments_lexer": "ipython3",
   "version": "3.7.2"
  }
 },
 "nbformat": 4,
 "nbformat_minor": 4
}
